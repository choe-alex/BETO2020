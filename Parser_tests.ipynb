{
 "cells": [
  {
   "cell_type": "code",
   "execution_count": 2,
   "metadata": {},
   "outputs": [],
   "source": [
    "import numpy as np\n",
    "import pandas as pd\n",
    "import selenium\n",
    "from selenium import webdriver\n",
    "import bs4\n",
    "from bs4 import BeautifulSoup\n",
    "import time"
   ]
  },
  {
   "cell_type": "code",
   "execution_count": 9,
   "metadata": {
    "scrolled": true
   },
   "outputs": [
    {
     "name": "stdout",
     "output_type": "stream",
     "text": [
      "\n",
      "Organic coatings are routinely encountered as trace evidence. Commonly encountered coatings include architectural paints, automotive coatings, nonautomotive vehicular coatings, industrial coatings, artist's paints, fingernail polishes, beverage‐ and food‐container coatings, marine coatings, and aircraft coatings. Typical cases where paints are encountered include breaking and entering, or burglaries where a tool may have been used to gain access to a home or safe; violent interactions where a coating from a weapon may be transferred to a victim or surface in the local environment; and vehicular incidents where one vehicle hits an inanimate object, another vehicle, or a person.\n",
      "In the forensic laboratory, a multitude of techniques have been used to characterize and compare various forms of paint that are received as evidence. Some of the more common techniques include stereomicroscopy, polarized light microscopy (PLM), chemical and solubility tests, Fourier transform infrared spectroscopy (FTIR), pyrolysis gas chromatography/mass spectrometry (Py‐GC/MS), scanning electron microscopy energy dispersive X‐ray spectroscopy (SEM‐EDS), Raman spectroscopy, ultraviolet visible microspectrophotometry (UV–vis MSP), and X‐ray diffraction (XRD) (1).\n",
      "         \n",
      "Pigments are an essential component of any coating that is intended to hide the color of a surface by providing a more desirable appearance. With the exception of clear coats, such as clear lacquers and varnishes, pigments are found in all paints. The best pigments will provide the most hiding power with the least amount of pigment incorporated into the film. Often, several different pigments are used to achieve a desired color or effect (2).\n",
      "         \n",
      "Several variables must be taken into consideration when attempting to determine what pigments are appropriate for a specific product. Economic factors tend to carry the most weight. Environmental considerations also play an important role in the selection of pigments. With shifts away from pigments containing heavy metals such as lead and cadmium, the use of organic pigments has increased (3, 4). Other factors include the resistance of the pigments to light, heat, and solvents. Inorganic pigments tend to have excellent resistance to all of these factors. Organic pigments, however, are typically susceptible to some form of degradation that would limit their range of applications. For example, if a particular pigment were susceptible to degradation via UV radiation, it would not be suitable for exterior applications. Advancements in the pigments and coatings industries have made the use of several organic pigments possible for automotive applications. One such advancement in automotive coatings was the development of UV‐resistant clear coat systems. By placing a clear UV‐resistant layer over the color coat, organic pigments that are otherwise susceptible to photolytic degradation can be used. Several classes of pigments have become available with resistive characteristics that are suitable for automotive use. Some of these classes include, but are not limited to: benzimidazolones, quinacridones, and phthalocyanines. In‐depth discussions of the history, specific uses, and chemistries of common organic pigments have been provided by Lewis (4, 5) and Wicks et al. (3).\n",
      "         \n",
      "Various methods have been utilized to identify and analyze pigments. Some of these methods include PLM, chemical tests, XRD, FTIR, X‐ray fluorescence (XRF), UV–vis MSP, and Raman spectroscopy. Crown (6) provides an in‐depth discussion of many of the techniques that have been used for the analysis of paints and pigments. As previously mentioned, PLM is a very powerful and inexpensive technique that can be utilized by the forensic scientists to characterize and identify various microscopic particles including pigments. McCrone et al. (7) provide a good description of the capabilities of PLM for this type of analysis. XRD is an excellent instrumental technique for the identification of pigments in paints; however, as discussed by Curry et al. (8), it is much better suited for the characterization of inorganic pigments. More recently, Voskertchian (9) investigated the use of visible light spectroscopy for the quantitative analysis of organic pigments in paints. Desiderio (10) recently utilized Py‐GC/MS to identify benzimidazolone‐class organic pigments in automotive coatings. It should be noted that Py‐GC/MS, although capable of providing valuable information, is a labor intensive and time‐consuming technique. Chromatography is difficult to use due to the chemical nature of most pigments. Pigments are colorants that are insoluble in most common solvents (11) and are difficult to vaporize at temperatures suitable for GC. Although uncommon in many laboratories, MS has also been used for pigment identification. Acampora et al. (12) utilized MS to identify pigments present in counterfeit bank notes. Unfortunately, as previously stated, automotive coatings are complex mixtures, therefore this type of in situ mass spectrometric examination would be difficult in this context. Suzuki and colleagues (13-18) have published a series of papers using FTIR to successfully identify various classes of both inorganic and organic pigments in automotive paints, and have recently begun to investigate the use of Raman spectroscopy (19) in conjunction with FTIR. This combination would provide complementary information that would lead to more definitive conclusions. In related work, micro‐Raman spectroscopy and micro‐Fourier transform–Raman spectroscopy have shown promise in analyzing pigments of interest in art (20, 21). Both FTIR and Raman spectroscopy are relatively simple to use and capable of handling small amounts of material in a nondestructive fashion. However, both the techniques do have some drawbacks. As paints are mixtures, their IR spectra will contain information on all components. The resulting spectral overlaps and generally low concentrations of organic pigments can make it difficult, if not impossible, to identify pigments that are masked by significant binder absorptions. Raman techniques are susceptible to interference due to fluorescence.\n",
      "         \n",
      "Although laser desorption mass spectrometry (LDMS) is not widely available, it is a viable option for the analysis of pigments. It is a fast, relatively nondestructive technique, which can handle very small samples. The generally low detection limits of this technique, accompanied by its selective ability to detect pigments in the presence of binders, make it ideal for analyzing low concentrations of organic pigments that might go unnoticed when using FTIR and Raman spectroscopies. The majority of the research in the forensic literature that utilizes LDMS concentrates on its use for the identification of pigments, colorants, and dyes in questioned documents. Grim et al. (22, 23) have evaluated the use of LDMS for the analysis of various inks. Dunn et al. (24) investigated the use of LDMS in conjunction with intentional photodegradation for the identification of dyes that are commonly found in red inks. Balko and Allison (25) utilized LDMS to detect and identify security ink dyes in the presence of other colorants on currency and fabrics. During the course of their work, they were able to detect and identify Pigment Blue 15, a phthalocyanine‐class blue organic pigment that is commonly utilized in paints. Siegel et al. (26) have outlined the applications and types of possible examinations that can be performed on inks using LDMS during the questioned document examinations. Repp and Allison (27) used a combination of thin‐layer chromatography, UV‐visible spectroscopy, and LDMS to analyze and characterize dyes and pigments in inks used to label iron pipe that could be used to manufacture pipe bombs. LDMS has been used to examine pigments, colorants, and dyes in artistic/historical media. Grim and Allison (28) were able to identify various colorants in both water color and oil‐based paintings. This same group also identified several inorganic pigments used in historical manuscripts (29). The work by Wyplosz (30) provides an in‐depth look at the power and utility of LDMS for the identification of organic pigments. Many of the pigments identified by Wyplosz, specifically quinacridones and phthalocyanines, find application in automotive coatings.\n",
      "         \n",
      "The purpose of this work is to explore the value of LDMS for the identification of organic pigments in automotive coatings.\n",
      "\n"
     ]
    }
   ],
   "source": [
    "driver = webdriver.Chrome()\n",
    "# driver.get('https://www-sciencedirect-com.offcampus.lib.washington.edu/science/article/pii/S0928493117315011')\n",
    "driver.get('https://onlinelibrary.wiley.com/doi/10.1111/j.1556-4029.2007.00431.x')\n",
    "# driver.get('https://pubs.acs.org/doi/10.1021/ac070590k')\n",
    "time.sleep(3) # important\n",
    "\n",
    "html_doc = driver.page_source # stores the source HTML code in the driver's page_source attribute\n",
    "soup = BeautifulSoup(html_doc, 'html.parser')\n",
    "\n",
    "title = soup.find('h2', {'class': \"citation__title\"}).text\n",
    "abstract = soup.find('div', {'class': \"article-section__content en main\"}).text\n",
    "\n",
    "try:\n",
    "    doi = soup.find('a', {'class': \"epub-doi\"}).text\n",
    "except:\n",
    "    print(\"Oops, I was unable to extract the DOI.\")\n",
    "    doi = None\n",
    "\n",
    "try:\n",
    "    intro = soup.find('div', {'id': \"ss0-ps\"}).text\n",
    "    print(intro)\n",
    "except:\n",
    "    print(\"oops, I was unable to extract the body of the article.\")\n",
    "    body = None\n",
    "\n",
    "methods = soup.find('div', {'id': \"ss1\"}).text"
   ]
  },
  {
   "cell_type": "code",
   "execution_count": 10,
   "metadata": {},
   "outputs": [
    {
     "name": "stdout",
     "output_type": "stream",
     "text": [
      "\n",
      " Instrumentation\n",
      "The LDMS system used was a PerSeptive Biosystems Voyager‐DE Biospectrometry Workstation equipped with a pulsed UV laser (337 nm, 2 nsec pulses) and a 1 m flight tube. Data acquisition was carried out using both positive‐ and negative‐ion spectrometry. The accelerating voltages utilized were 20 kV for positive mode and −18 kV for negative mode. The delay time, between the laser pulse and application of the ion‐source accelerating voltage, was typically set at 100 nsec. Data from 50 laser shots were averaged to produce the reported spectra. Although most of the mass spectra shown here are in the m/z range of 10–1000, the range of time‐of‐flight MS is very large. For this particular instrument, ions have been detected above m/z 100,000 in MALDI‐MS experiments.\n",
      "            \n",
      "\n"
     ]
    }
   ],
   "source": [
    "print(methods)"
   ]
  },
  {
   "cell_type": "code",
   "execution_count": null,
   "metadata": {},
   "outputs": [],
   "source": []
  }
 ],
 "metadata": {
  "kernelspec": {
   "display_name": "Python 3",
   "language": "python",
   "name": "python3"
  },
  "language_info": {
   "codemirror_mode": {
    "name": "ipython",
    "version": 3
   },
   "file_extension": ".py",
   "mimetype": "text/x-python",
   "name": "python",
   "nbconvert_exporter": "python",
   "pygments_lexer": "ipython3",
   "version": "3.7.3"
  }
 },
 "nbformat": 4,
 "nbformat_minor": 2
}
