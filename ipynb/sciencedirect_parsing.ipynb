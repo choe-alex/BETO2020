{
 "cells": [
  {
   "cell_type": "markdown",
   "metadata": {},
   "source": [
    "Attempt at parsing through a ScienceDirect URL using Selenium 'page_souce' and BeautifulSoup.\n"
   ]
  },
  {
   "cell_type": "code",
   "execution_count": 388,
   "metadata": {},
   "outputs": [],
   "source": [
    "import numpy as np\n",
    "import pandas as pd\n",
    "import requests\n",
    "import selenium\n",
    "from selenium import webdriver\n",
    "from selenium.webdriver.common.keys import Keys\n",
    "import bs4\n",
    "from bs4 import BeautifulSoup\n",
    "import time"
   ]
  },
  {
   "cell_type": "code",
   "execution_count": 389,
   "metadata": {},
   "outputs": [],
   "source": [
    "df = pd.read_csv('../data/flame_ret_urls_1.txt', header=None, names= ['url'])"
   ]
  },
  {
   "cell_type": "code",
   "execution_count": 390,
   "metadata": {},
   "outputs": [
    {
     "data": {
      "text/html": [
       "<div>\n",
       "<style scoped>\n",
       "    .dataframe tbody tr th:only-of-type {\n",
       "        vertical-align: middle;\n",
       "    }\n",
       "\n",
       "    .dataframe tbody tr th {\n",
       "        vertical-align: top;\n",
       "    }\n",
       "\n",
       "    .dataframe thead th {\n",
       "        text-align: right;\n",
       "    }\n",
       "</style>\n",
       "<table border=\"1\" class=\"dataframe\">\n",
       "  <thead>\n",
       "    <tr style=\"text-align: right;\">\n",
       "      <th></th>\n",
       "      <th>url</th>\n",
       "    </tr>\n",
       "  </thead>\n",
       "  <tbody>\n",
       "    <tr>\n",
       "      <th>0</th>\n",
       "      <td>https://www.sciencedirect.com/science/article/...</td>\n",
       "    </tr>\n",
       "    <tr>\n",
       "      <th>1</th>\n",
       "      <td>https://onlinelibrary.wiley.com/doi/full/10.10...</td>\n",
       "    </tr>\n",
       "    <tr>\n",
       "      <th>2</th>\n",
       "      <td>https://pubs.rsc.org/en/content/articlehtml/20...</td>\n",
       "    </tr>\n",
       "    <tr>\n",
       "      <th>3</th>\n",
       "      <td>https://www.sciencedirect.com/science/article/...</td>\n",
       "    </tr>\n",
       "    <tr>\n",
       "      <th>4</th>\n",
       "      <td>https://pubs.acs.org/doi/full/10.1021/acsnano....</td>\n",
       "    </tr>\n",
       "  </tbody>\n",
       "</table>\n",
       "</div>"
      ],
      "text/plain": [
       "                                                 url\n",
       "0  https://www.sciencedirect.com/science/article/...\n",
       "1  https://onlinelibrary.wiley.com/doi/full/10.10...\n",
       "2  https://pubs.rsc.org/en/content/articlehtml/20...\n",
       "3  https://www.sciencedirect.com/science/article/...\n",
       "4  https://pubs.acs.org/doi/full/10.1021/acsnano...."
      ]
     },
     "execution_count": 390,
     "metadata": {},
     "output_type": "execute_result"
    }
   ],
   "source": [
    "df.head()"
   ]
  },
  {
   "cell_type": "markdown",
   "metadata": {},
   "source": [
    "***How many urls are from Wiley?***"
   ]
  },
  {
   "cell_type": "code",
   "execution_count": 391,
   "metadata": {},
   "outputs": [
    {
     "data": {
      "text/plain": [
       "87"
      ]
     },
     "execution_count": 391,
     "metadata": {},
     "output_type": "execute_result"
    }
   ],
   "source": [
    "len(df[df['url'].str.contains('wiley')])"
   ]
  },
  {
   "cell_type": "markdown",
   "metadata": {},
   "source": [
    "***How many urls are from American Chemical Society or Royal Chemical Society***"
   ]
  },
  {
   "cell_type": "code",
   "execution_count": 392,
   "metadata": {},
   "outputs": [
    {
     "data": {
      "text/plain": [
       "142"
      ]
     },
     "execution_count": 392,
     "metadata": {},
     "output_type": "execute_result"
    }
   ],
   "source": [
    "len(df[df['url'].str.contains('pubs')])"
   ]
  },
  {
   "cell_type": "markdown",
   "metadata": {},
   "source": [
    "***How many urls are from Science Direct***"
   ]
  },
  {
   "cell_type": "code",
   "execution_count": 393,
   "metadata": {},
   "outputs": [
    {
     "data": {
      "text/plain": [
       "372"
      ]
     },
     "execution_count": 393,
     "metadata": {},
     "output_type": "execute_result"
    }
   ],
   "source": [
    "len(df[df['url'].str.contains('sciencedirect')])"
   ]
  },
  {
   "cell_type": "markdown",
   "metadata": {},
   "source": [
    "***How many urls are from Springer***"
   ]
  },
  {
   "cell_type": "code",
   "execution_count": 394,
   "metadata": {},
   "outputs": [
    {
     "data": {
      "text/plain": [
       "51"
      ]
     },
     "execution_count": 394,
     "metadata": {},
     "output_type": "execute_result"
    }
   ],
   "source": [
    "len(df[df['url'].str.contains('springer')])"
   ]
  },
  {
   "cell_type": "markdown",
   "metadata": {},
   "source": [
    "***How many urls are from mdpi***"
   ]
  },
  {
   "cell_type": "code",
   "execution_count": 395,
   "metadata": {},
   "outputs": [
    {
     "data": {
      "text/plain": [
       "15"
      ]
     },
     "execution_count": 395,
     "metadata": {},
     "output_type": "execute_result"
    }
   ],
   "source": [
    "len(df[df['url'].str.contains('mdpi')])"
   ]
  },
  {
   "cell_type": "markdown",
   "metadata": {},
   "source": [
    "***How many urls are from Nature***"
   ]
  },
  {
   "cell_type": "code",
   "execution_count": 396,
   "metadata": {},
   "outputs": [
    {
     "data": {
      "text/plain": [
       "5"
      ]
     },
     "execution_count": 396,
     "metadata": {},
     "output_type": "execute_result"
    }
   ],
   "source": [
    "len(df[df['url'].str.contains('nature')])"
   ]
  },
  {
   "cell_type": "markdown",
   "metadata": {},
   "source": [
    "***How many urls are from NIH***"
   ]
  },
  {
   "cell_type": "code",
   "execution_count": 397,
   "metadata": {},
   "outputs": [
    {
     "data": {
      "text/plain": [
       "3"
      ]
     },
     "execution_count": 397,
     "metadata": {},
     "output_type": "execute_result"
    }
   ],
   "source": [
    "len(df[df['url'].str.contains('nih')])"
   ]
  },
  {
   "cell_type": "code",
   "execution_count": 405,
   "metadata": {},
   "outputs": [
    {
     "data": {
      "text/plain": [
       "0      https://www.sciencedirect.com/science/article/...\n",
       "3      https://www.sciencedirect.com/science/article/...\n",
       "5      https://www.sciencedirect.com/science/article/...\n",
       "7      https://www.sciencedirect.com/science/article/...\n",
       "9      https://www.sciencedirect.com/science/article/...\n",
       "10     https://www.sciencedirect.com/science/article/...\n",
       "11     https://www.sciencedirect.com/science/article/...\n",
       "13     https://www.sciencedirect.com/science/article/...\n",
       "14     https://www.sciencedirect.com/science/article/...\n",
       "15     https://www.sciencedirect.com/science/article/...\n",
       "17     https://www.sciencedirect.com/science/article/...\n",
       "18     https://www.sciencedirect.com/science/article/...\n",
       "19     https://www.sciencedirect.com/science/article/...\n",
       "21     https://www.sciencedirect.com/science/article/...\n",
       "22     https://www.sciencedirect.com/science/article/...\n",
       "23     https://www.sciencedirect.com/science/article/...\n",
       "24     https://www.sciencedirect.com/science/article/...\n",
       "25     https://www.sciencedirect.com/science/article/...\n",
       "26     https://www.sciencedirect.com/science/article/...\n",
       "28     https://www.sciencedirect.com/science/article/...\n",
       "29     https://www.sciencedirect.com/science/article/...\n",
       "32     https://www.sciencedirect.com/science/article/...\n",
       "33     https://www.sciencedirect.com/science/article/...\n",
       "34     https://www.sciencedirect.com/science/article/...\n",
       "36     https://www.sciencedirect.com/science/article/...\n",
       "37     https://www.sciencedirect.com/science/article/...\n",
       "38     https://www.sciencedirect.com/science/article/...\n",
       "39     https://www.sciencedirect.com/science/article/...\n",
       "41     https://www.sciencedirect.com/science/article/...\n",
       "42     https://www.sciencedirect.com/science/article/...\n",
       "                             ...                        \n",
       "112    https://www.sciencedirect.com/science/article/...\n",
       "113    https://www.sciencedirect.com/science/article/...\n",
       "115    https://www.sciencedirect.com/science/article/...\n",
       "121    https://www.sciencedirect.com/science/article/...\n",
       "122    https://www.sciencedirect.com/science/article/...\n",
       "123    https://www.sciencedirect.com/science/article/...\n",
       "124    https://www.sciencedirect.com/science/article/...\n",
       "125    https://www.sciencedirect.com/science/article/...\n",
       "127    https://www.sciencedirect.com/science/article/...\n",
       "128    https://www.sciencedirect.com/science/article/...\n",
       "129    https://www.sciencedirect.com/science/article/...\n",
       "130    https://www.sciencedirect.com/science/article/...\n",
       "131    https://www.sciencedirect.com/science/article/...\n",
       "133    https://www.sciencedirect.com/science/article/...\n",
       "135    https://www.sciencedirect.com/science/article/...\n",
       "138    https://www.sciencedirect.com/science/article/...\n",
       "139    https://www.sciencedirect.com/science/article/...\n",
       "142    https://www.sciencedirect.com/science/article/...\n",
       "143    https://www.sciencedirect.com/science/article/...\n",
       "144    https://www.sciencedirect.com/science/article/...\n",
       "145    https://www.sciencedirect.com/science/article/...\n",
       "146    https://www.sciencedirect.com/science/article/...\n",
       "148    https://www.sciencedirect.com/science/article/...\n",
       "149    https://www.sciencedirect.com/science/article/...\n",
       "150    https://www.sciencedirect.com/science/article/...\n",
       "152    https://www.sciencedirect.com/science/article/...\n",
       "154    https://www.sciencedirect.com/science/article/...\n",
       "156    https://www.sciencedirect.com/science/article/...\n",
       "157    https://www.sciencedirect.com/science/article/...\n",
       "158    https://www.sciencedirect.com/science/article/...\n",
       "Name: url, Length: 100, dtype: object"
      ]
     },
     "execution_count": 405,
     "metadata": {},
     "output_type": "execute_result"
    }
   ],
   "source": [
    "df_sd = df[df['url'].str.contains('sciencedirect')]\n",
    "df_sd.iloc[:100,0]"
   ]
  },
  {
   "cell_type": "code",
   "execution_count": 406,
   "metadata": {},
   "outputs": [],
   "source": [
    "url = df_sd.iloc[112,0]"
   ]
  },
  {
   "cell_type": "code",
   "execution_count": 407,
   "metadata": {},
   "outputs": [
    {
     "data": {
      "text/plain": [
       "'https://www.sciencedirect.com/science/article/pii/S0013935117317449'"
      ]
     },
     "execution_count": 407,
     "metadata": {},
     "output_type": "execute_result"
    }
   ],
   "source": [
    "url"
   ]
  },
  {
   "cell_type": "code",
   "execution_count": 408,
   "metadata": {},
   "outputs": [],
   "source": [
    "driver = webdriver.Chrome() #'/Users/wab665/Downloads/chromedriver'"
   ]
  },
  {
   "cell_type": "code",
   "execution_count": 409,
   "metadata": {},
   "outputs": [],
   "source": [
    "driver.get(url)"
   ]
  },
  {
   "cell_type": "code",
   "execution_count": 410,
   "metadata": {},
   "outputs": [],
   "source": [
    "source = driver.page_source"
   ]
  },
  {
   "cell_type": "code",
   "execution_count": 411,
   "metadata": {},
   "outputs": [],
   "source": [
    "soup = BeautifulSoup(source, 'html.parser')"
   ]
  },
  {
   "cell_type": "code",
   "execution_count": 412,
   "metadata": {},
   "outputs": [
    {
     "name": "stdout",
     "output_type": "stream",
     "text": [
      "Impact of particle size on distribution and human exposure of flame retardants in indoor dust - ScienceDirect\n"
     ]
    }
   ],
   "source": [
    "title = soup.title.text\n",
    "print(title)"
   ]
  },
  {
   "cell_type": "code",
   "execution_count": 413,
   "metadata": {},
   "outputs": [
    {
     "name": "stdout",
     "output_type": "stream",
     "text": [
      "Highlights•Indoor dust from office/public microenvironments/cars were separated into 6 size fractions.•FR distribution was dependent on Kow/dust surface area/TOC/FR migration pathway.•OPFR bioaccessibility was 1.8–82%, bioaccessible PBDEs/NBFRs/DPs were < detection limit.•Human exposure to FR was dependent on dust particle size and bioaccessibility.AbstractThe effect of dust particle size on the distribution and bioaccessibility of flame retardants (FRs) in indoor dust remains unclear. In this study, we analyzed 20 FRs (including 6 organophosphate flame retardants (OPFRs), 8 polybrominated diphenyl ethers (PBDEs), 4 novel brominated flame retardants (NBFRs), and 2 dechlorane plus (DPs)) in composite dust samples from offices, public microenvironments (PME), and cars in Nanjing, China. Each composite sample (one per microenvironment) was separated into 6 size fractions (F1–F6: 200–2000 µm, 150–200 µm, 100–150 µm, 63–100 µm, 43–63 µm, and <43 µm). FRs concentrations were the highest in car dust, being 16 and 6 times higher than those in offices and PME. The distribution of FRs in different size fractions was Kow-dependent and affected by surface area (Log Kow=1–4), total organic carbon (Log Kow=4–9), and FR migration pathways into dust (Log Kow>9). Bioaccessibility of FRs was measured by the physiologically-based extraction test, with OPFR bioaccessibility being 1.8–82% while bioaccessible PBDEs, NBFRs, and DPs were under detection limits due to their high hydrophobicity. The OPFR bioaccessibility in 200–2000 µm fraction was significantly higher than that of <43 µm fraction, but with no difference among the other four fractions. Risk assessment was performed for the most abundant OPFR-tris(2-chloroethyl) phosphate. The average daily dose (ADD) values were the highest for the <43 µm fraction for all three types of dust using total concentrations, but no consistent trend was found among the three types of dust if based on bioaccessible concentrations. Our results indicated that dust size impacted human exposure estimation of FRs due to their variability in distribution and bioaccessibility among different fractions. For future risk assessment, size selection for dust sampling should be standardized and bioaccessibility of FRs should not be overlooked.Graphical abstractDownload high-res image (128KB)Download full-size image\n"
     ]
    }
   ],
   "source": [
    "abstract = soup.find('div', {'class':\"Abstracts u-font-serif\"}).text #pull the abstract\n",
    "print(abstract)"
   ]
  },
  {
   "cell_type": "code",
   "execution_count": 414,
   "metadata": {},
   "outputs": [
    {
     "name": "stdout",
     "output_type": "stream",
     "text": [
      "https://doi.org/10.1016/j.envres.2017.12.014Get rights and content\n"
     ]
    }
   ],
   "source": [
    "doi = soup.find('div', {'id':\"doi-link\"}).text #pull the DOI\n",
    "print(doi)"
   ]
  },
  {
   "cell_type": "code",
   "execution_count": 415,
   "metadata": {},
   "outputs": [
    {
     "name": "stdout",
     "output_type": "stream",
     "text": [
      "1. IntroductionPolybrominated diphenyl ethers (PBDEs) have been widely applied as flame retardants (FRs) in furniture, upholstery materials, and polymer resins (Brandsma et al., 2013, van der Veen and de Boer, 2012). Due to their health concerns, their use has been banned worldwide recently (Shaw et al., 2010). However, being persistent organic pollutants (POPs), PBDEs can be ubiquitously detected even after being banned for decades. On the other hand, the phase-out of PBDEs is concurrent with increasing use of alternative FRs. The common alternatives include organophosphate flame retardants (OPFRs), novel brominated flame retardants (NBFRs), and dechlorane Plus (DPs) (Stapleton et al., 2012).Flame retardants can be released into the environment by abrasion or volatilization, leading to their accumulation in indoor dust (Abdallah and Covaci, 2014, van der Veen and de Boer, 2012). Growing evidence showed that indoor dust plays a significant role in human exposure to FRs (Mercier et al., 2011). As a complex mixture with particles from multiple sources, dust particle size varies from nanometer to millimeter level (Butte and Heinzow, 2002). Some studies reported that the concentrations of organic contaminants were related to particle size but with inconsistent conclusion (Lewis et al., 1999, Yu et al., 2013). For example, phthalate esters were mainly present in dust with particle size of 63–2000 µm (Wang et al., 2013a). On the other hand, Cao et al. (2014a) found that finer particles (~7 µm) showed no enrichment of PBDEs and NBFRs compared with larger particles. In addition, contaminant distribution among different particle size fractions is important for risk assessment since human exposure to contaminants in indoor dust is affected by particle size. For example, particles <246 µm usually adhere to children's hands, and are therefore more likely to be ingested, while particles <100–200 µm are retained by skin (Mercier et al., 2011), which may pose health threat through dermal uptake. However, studies regarding the distributions of FRs in different particle size fractions in dust are still poorly understood.Another critical issue in risk assessment is bioaccessibility because contaminants are not necessarily all available for uptake after oral ingestion (Rostami and Juhasz, 2011). In recent decades, some physiologically-based in vitro methods have been used to measure the bioaccessibility of organic contaminants in dust, such as PAHs, OCPs, and PBDEs (Kang et al., 2012, Yu et al., 2012). However, information about the bioaccessibility of novel flame retardants including NBFRs, OPFRs, and DPs is still rare. Their bioaccessibility in dust may also depend on particle size (USEPA, 1995), and has been investigated for some organic contaminants (e.g., PCBs; Wang et al., 2013b). To our knowledge, no information is available about the effect of particle size on FR bioaccessibility in dust so far.To better estimate the potential risks associated with human exposure to FRs in dust, it is important to understand the impact of dust particle size on their distribution and bioaccessibility. To this end, the objectives of this study were to: (1) determine the distribution of FRs among particle size fractions in different indoor dust; and (2) investigate the effect of particle size on the bioaccessibility of FRs via physiologically-based extraction test (PBET); and (3) to estimate the oral exposure risk of FRs among different particle size fractions based on both total and bioaccessible concentrations.2. Materials and methods2.1. Chemicals and reagentsA total of 20 flame retardants were investigated, including 6 OPFRs (TCEP, TCPP, TDCPP, TBP, TPP, and EHDPP), 4 NBFRs (HBB, TBB, TBPH, and DBDPE), 8 PBDEs (BDE-28, BDE-47, BDE-99, BDE-100, BDE-153, BDE-154, BDE-183 and BDE-209), and 2 DPs (syn-DP and anti-DP). The full name and detailed properties of all FRs are listed in supporting information as Table S1. Standard chemicals were purchased from Aladdin Industrial Corporation (Shanghai, China) and J&K Scientific (Shanghai, China) with purity > 98%. All solvents and chemicals were of HPLC or analytical grade. Stock solutions were prepared in n-hexane at concentrations of 100–1000 mg/L for each compound.2.2. Indoor dust samplingThree types of indoor dust samples were collected from offices (n = 12), public microenvironments (PME) (n = 7, 3 laboratories, 1 classroom, 1 lobby, 1 hotel, and 1 supermarket), and a car wash station (composite dust samples of >100 cars) in Nanjing, China. The dust samples from offices and PME were collected from air-conditioner (AC) filters, while car dust was collected from carpet surface, seats, and dashboard by a vacuum cleaner. Dust samples from each category were mixed, homogenized, and sieved through nylon sieve to < 2000 µm. Each type of sample was separated into 6 fractions via sieving, including F1 (200–2000 µm), F2 (150–200 µm), F3 (100–150 µm), F4 (63–100 µm), F5 (43–63 µm), and F6 (<43 µm). Different sampling methods (AC filter sampling for office and PME dust vs surface collection for car dust) may effect on the particles size distribution. AC filters usually retain smaller particles from the air, while larger size of dust can be observed in surface dust (He et al., 2016). However, the effect of different sampling methods on size distribution of dust was alleviated by manually sieving dust samples into 6 fractions. All dust samples were stored in aluminum foil at −20 °C until analysis. Total organic carbon (TOC) contents in dust were analyzed by element analyzer (vario TOC select, Elementar, Germany) after removing carbonate carbon by dissolving dust in 0.5 M HCl.2.3. Total concentrations of flame retardants in dustThe dust samples were extracted according to He et al. (2016). Triplicates were used for each dust and procedural blanks were also included. Each dust sample (~0.2 g) was extracted in a sonicator (SCOENTZ, SB-800 DTD, China) with 20 mL n-hexane for 30 min three consecutive times. The combined extract was evaporated to near dryness (IKA®RV10, Germany) and re-dissolved in 2 mL n-hexane. The n-hexane solution was then transferred to 2 mL amber vials after filtration through a 0.45 mm PTFE filter (ANPEL, China) and stored at −20 °C until analysis.2.4. Bioaccessible flame retardants in dustBioaccessible FRs in dust samples were measured using the physiologically-based extraction test (PBET) (Ruby et al., 2002, Tilston et al., 2011) in the way reported in our previous study (He et al., 2016). Briefly, ~0.2 g dust sample was extracted by gastric fluid at pH = 2.5 with being shaken at 37 °C in an incubator (HZP-250, China) at 150 rpm. After 1 h, the solution was converted to intestinal fluid by adjusting pH to 7 and adding 0.035 g bile salts and 0.01 g pancreatin. After shaking for 4 h at 37 °C and 150 rpm, the mixture was centrifuged at 3000 rpm for 5 min and the supernatant was filtrated through a 0.45 µm PTFE filter (SCAA-113, China) into a glass centrifuge tube. An aliquot of 10 mL supernatant was extracted by sonication with 10 mL n-hexane for 30 min three times. The extracts were combined into 150 mL flask bottle after dehydration by filtration with anhydrous sodium sulfate. The extracts were then condensed and reconstituted in 2 mL n-hexane. The final extract was filtered through a 0.45 µm PTFE filter (ANPEL, China) into 2 mL amber vial for analysis. The bioaccessibility of FRs was calculated based on the following equation:Bioaccessibility%=ExtractedFRsTotalFRsindust*100%<math><mrow is=\"true\"><mi mathvariant=\"normal\" is=\"true\">Bioaccessibility</mi><mo is=\"true\">%</mo></mrow><mo is=\"true\">=</mo><mfrac is=\"true\"><mrow is=\"true\"><mrow is=\"true\"><mi mathvariant=\"italic\" is=\"true\">Extracted</mi></mrow><mrow is=\"true\"></mrow><mrow is=\"true\"><mi mathvariant=\"italic\" is=\"true\">FRs</mi></mrow><mrow is=\"true\"></mrow></mrow><mrow is=\"true\"><mrow is=\"true\"><mi mathvariant=\"italic\" is=\"true\">Total</mi></mrow><mrow is=\"true\"></mrow><mrow is=\"true\"><mi mathvariant=\"italic\" is=\"true\">FRs</mi></mrow><mrow is=\"true\"></mrow><mrow is=\"true\"><mi mathvariant=\"italic\" is=\"true\">in</mi></mrow><mrow is=\"true\"></mrow><mrow is=\"true\"><mi mathvariant=\"italic\" is=\"true\">dust</mi></mrow></mrow></mfrac><mrow is=\"true\"><mo is=\"true\">*</mo><mn is=\"true\">100</mn><mo is=\"true\">%</mo></mrow></math>2.5. Risk assessmentThe values of average daily dose (ADD) of FRs in the dust samples through non-dietary ingestion was determined according to the following equation. There are other exposure pathways that contribute to the overall exposure in addition to dust ingestion, namely inhalation and dermal pathway. However, in terms of dust samples, due to the relatively large particle size as well as high frequency of hand-mouth behavior, especially for young children, incidental dust ingestion can be considered as a significant exposure pathway. Therefore, we focused on the ADDingest.ADDingest=IngR×CBW<math><mrow is=\"true\"><mi is=\"true\">A</mi><mi is=\"true\">D</mi><msub is=\"true\"><mrow is=\"true\"><mi is=\"true\">D</mi></mrow><mrow is=\"true\"><mi is=\"true\">i</mi><mi is=\"true\">n</mi><mi is=\"true\">g</mi><mi is=\"true\">e</mi><mi is=\"true\">s</mi><mi is=\"true\">t</mi></mrow></msub><mo is=\"true\">=</mo><mfrac is=\"true\"><mrow is=\"true\"><mi is=\"true\">I</mi><mi is=\"true\">n</mi><mi is=\"true\">g</mi><mi is=\"true\">R</mi><mo is=\"true\">×</mo><mi is=\"true\">C</mi></mrow><mrow is=\"true\"><mi is=\"true\">B</mi><mi is=\"true\">W</mi></mrow></mfrac></mrow></math>Where C represents FR concentrations in cars, PME, or office dust (µg/g), IngR is the ingestion rate of indoor dust (g/day) at 0.11 for adults (Kang et al., 2012), and BW refers to the body weight (kg) at 61.5 kg for adults (Wang et al., 2013a). Bioaccessible FRs were also taken into consideration for non-dietary ingestion exposure:ADDingest−bio=Bioaccessibility%×ADDingest<math><mrow is=\"true\"><mi is=\"true\">A</mi><mi is=\"true\">D</mi><msub is=\"true\"><mrow is=\"true\"><mi is=\"true\">D</mi></mrow><mrow is=\"true\"><mi is=\"true\">i</mi><mi is=\"true\">n</mi><mi is=\"true\">g</mi><mi is=\"true\">e</mi><mi is=\"true\">s</mi><mi is=\"true\">t</mi><mo is=\"true\">−</mo><mi is=\"true\">b</mi><mi is=\"true\">i</mi><mi is=\"true\">o</mi></mrow></msub><mo is=\"true\">=</mo><mi is=\"true\">B</mi><mi is=\"true\">i</mi><mi is=\"true\">o</mi><mi is=\"true\">a</mi><mi is=\"true\">c</mi><mi is=\"true\">c</mi><mi is=\"true\">e</mi><mi is=\"true\">s</mi><mi is=\"true\">s</mi><mi is=\"true\">i</mi><mi is=\"true\">b</mi><mi is=\"true\">i</mi><mi is=\"true\">l</mi><mi is=\"true\">i</mi><mi is=\"true\">t</mi><mi is=\"true\">y</mi><mo is=\"true\">%</mo><mspace width=\".25em\" is=\"true\"></mspace><mo is=\"true\">×</mo><mspace width=\".25em\" is=\"true\"></mspace><mi is=\"true\">A</mi><mi is=\"true\">D</mi><msub is=\"true\"><mrow is=\"true\"><mi is=\"true\">D</mi></mrow><mrow is=\"true\"><mi is=\"true\">i</mi><mi is=\"true\">n</mi><mi is=\"true\">g</mi><mi is=\"true\">e</mi><mi is=\"true\">s</mi><mi is=\"true\">t</mi></mrow></msub></mrow></math>2.6. Chemical analysisThe analysis of OPFRs was conducted on gas chromatography (Agilent Technologies, 7890A) coupled with mass spectrometry with an electron ionization mode (Agilent Technologies, 5975) (GC-MS) in selective ion-monitoring mode. Temperature of the injector and ion source was 280 °C, and analyte separation was achieved using a TR-5MS column (30 m × 0.25 mm i.d with 0.25 µm film thickness). Helium (99.999%) was used as a carrier gas at a flow rate of 1 mL/min. The analysis of PBDEs, NBFRs, and DPs were conducted on GC (Agilent Technologies, 7890 A) coupled with MS (Agilent Technologies, 7000B) (GC-MS) under negative chemical ionization mode. Temperatures of the injector and ion source were 280 °C and 150 °C, and analyte separation was achieved using a DB-5MS column (10 m × 0.25 mm i.d with 0.25 µm film thickness for PBDEs, and 30 m × 0.25 mm i.d with 0.25 µm film thickness for NBFRs/DPs). The temperature programs and characteristic ions for each compound can be found in Supporting information.2.7. QA/QCTo minimize cross contamination, glassware was used for sample extraction, storage, and analysis. Prior to use, the glassware was washed and heated at 450 °C for 4 h. Method, procedural, and solvent blanks were included for quality control, and solvent blanks were analyzed every 8 samples on GC-MS. There were no PBDEs, NBFRs, and DPs detected in blanks. TCEP and TDCPP were detected in procedural blanks at average concentrations of 6.09 and 4.53 μg/L, which were accounted for during data analysis. The instrument limits of detection were calculated as three times the background noise level by running 7 solvent blanks, which were 0.7–2.9 µg/kg for OPFRs, 1.5–50 µg/kg for NBFRs/DPs, and 2.0–50 µg/kg for PBDEs. The deuterated tributyl phosphate (purity=98–99%, Cambridge Isotope Laboratories, USA) was used as a surrogate to monitor the extraction recovery for OPFRs. The recovery efficiencies based on deuterated tributyl phosphate were 98.2 ± 8.15% and 84.9 ± 14.1% for dust extraction and supernatant extraction after PBET incubation. Standard reference material for dust (SRM2858, NIST, USA) was also measured for method recovery for more hydrophobic FRs with values of 87 ± 2.3–130 ± 6.6%.3. Result and discussionInformation on FRs in indoor dust mainly focuses on homes and offices (He et al., 2016, Kim et al., 2013), while relatively less information exists for other microenvironments such as cars (Harrad and Abdallah, 2011, Brommer and Harrad, 2015). Therefore, dust samples from offices, PME and cars were collected and the effects of particle size on FR distributions and bioaccessibility were investigated. Though contaminants preferably accumulate in fine particles (< 63 µm fraction) due to their large surface area, and consequently more damage can be expected from ingestion of these particles (Johnson-Restrepo and Kannan, 2009), the 100–200 µm fraction makes the largest contribution to dust mass. In addition, larger particles (>200 µm) in indoor dust are often carried from outdoors by people or wind, so outdoor contaminants absorbed onto these particles also pose a health threat (Cao et al., 2014a, Mercier et al., 2011). Therefore, each type of dust sample (i.e., car, PME, and office) was separated into 6 fractions, including F1 (200–2000 µm), F2 (150–200 µm), F3 (100–150 µm), F4 (63–100 µm), F5 (43–63 µm), and F6 (<43 µm), to compare FR distribution and bioaccessibility among various size fractions.3.1. Distributions of FRs among different dust samplesComparison among different types of dust were conducted based on average FR concentration across 6 size fractions, with concentration for each fraction of FRs being provided in supporting information (Table S2). Among the three types of dust, FR concentrations in car dust were the highest except for DPs. For example, ∑OPFRs in car dust was 92.3 μg/g, which were 16 and 6 times higher than those in the dust of offices (5.89 μg/g) and PME (15.7 μg/g) (Table 1). Total PBDEs were significantly higher for car dust at 106 μg/g compared with that of office and PME at 3.81, and 3.28 μg/g. High FRs in car dust has also been reported in other studies. For example, ∑OPFRs and ∑PBDEs concentration in car dust were 217 and 340 μg/g, which were higher than those in office (69.7 and 31 μg/g) and home dust (47.8 and 260 μg/g) in UK (Brommer and Harrad, 2015, Harrad et al., 2008). This may result from the use of acrylonitrile butadiene styrene/polypropylene polymer in the instrument panels and interior upholstery in vehicles with relatively compact space compared with that of offices or PME (Wilkie and Morgan, 2009). In addition, the higher temperature and limited ventilation inside cars than offices and PME can also enhance the release of FRs. However, the highest DP level was observed in dust from PME at 2.97 μg/g (Table 1). This was because DPs have mainly been used in plastic connectors in electrical appliances and furniture, which are frequently used in PME including labs, supermarkets and hotels (Sverko et al., 2011). Another thing is that different sampling strategies were utilized for the three types of dust in the current study. Car dust samples were from settled dust, while dust samples from offices and PME were collected from air conditioner filter, which were supposed to bind more contaminants due to the relatively smaller particle size and larger surface area (He et al., 2016). Nevertheless, the higher FR concentrations in car dust, even being settled dust, indicated that the comparison result among the three dust is not blurred by the different sampling strategies.Table 1. Average flame retardant concentrations across 6 size fractions of three types of dust samples.CompoundsDust typeConcentration (ng/g)aOPFRsOffices5887 ± 1680PME15734 ±3812Cars92304 ± 14850bPBDEsOffices3812 ± 729PME3282 ± 891Cars105525 ± 60806cNBFRsOffices4161 ± 823PME6006 ± 1715Cars21759 ± 5985dDPsOffices3.6 ±0.8PME2968 ± 1400Cars51 ± 14aOPFRs: organophosphate flame retardants.bPBDEs: polybrominated diphenyl ethers.cNBFRs: novel brominated flame retardants.dDPs: dechlorane plus.In addition, the profiles of all FRs in three types of dust were investigated. For OPFRs, chlorinated OPFRs (i.e., TCEP, TCPP, and TDCPP) accounted for the majority at 95%, 97%, and 85% for office, PME and car dust (Fig. 1). However, EHDPP made higher contribution in car dust (10%) than that in office and PME (1.6% and 0.9%). This may be attributed to the wide use of EHDPP in hydraulic fluids in car engine (van der Veen and de Boer, 2012). Among PBDEs, BDE209 was the most abundant compound in all samples. It is worth to mention that BDE 47 was only detected in car dust, indicating that penta-BDE may be still present in some products used for cars. The most dominant compound among NBFRs was DBDPE (Fig. 1), which was due to its frequent use in China. For example, DBDPE is one of the most used NBFRs compared with BTBPE, TBPH, and TBB in China with annual production of 12,000 t in 2006 (Covaci et al., 2011). When compared with BDE 209, DBDPE concentration was comparable in both office and PME dust (4.08 vs 3.59 μg/g for office, and 3.13 vs 3.08 μg/g for PME), but much lower in car dust (21 vs 101 μg/g) (Table S2). The data indicated that the phase out of BDE 209 in materials (e.g., upholsteries) for cars may be lagging behind than that in products used in offices and PME.Download high-res image (223KB)Download full-size imageFig. 1. Composition profiles of flame retardants in different types of dust. (OPFR: organophosphate flame retardant; NBFR: novel brominated flame retardant; PBDE: polybrominated diphenyl ether).3.2. Distributions of FRs among different size fractionsIn this study, FR distributions among particle size fractions are shown in Fig. 2. In all three types of dust, OPFR concentrations generally increased with the decrease of particle sizes from F1 (200–2000 µm) to F6 (<43 µm) (Fig. 2). For example, the OPFR concentrations were 3.51, 6.98, and 58.9 μg/g in 200–2000 µm fraction and increased to 8.22, 19.0, and 110 μg/g in <43 µm fraction for dust from offices, PME, and cars (Fig. 2). This is consistent with previous reports showing organic contaminants such as PAHs and PCBs in dust generally increased with decreasing particle size due to its larger surface area (Lewis et al., 1999, Wang et al., 2013b). The data suggested that OPFRs were probably sorbed on the particle surfaces instead of being inside the particles (Lewis et al., 1999). TCEP, as the most abundant OPFR, showed similar trend with ∑OPFRs, with the highest concentrations being in the <43 µm fraction at 7.13, 16.6, and 81.9 μg/g for dust from offices, PME, and cars (Table S2). With the increasing hydrophobicity of OPFRs (Table S1), TOC may have more influence on OPFR distribution in different size fractions compared to surface area. For example, concentrations of more hydrophobic compounds (TPP and EHDPP) were the highest in the 150–200 µm fraction for car dust (5.30 and 10.0 μg/g; Table S2), which had the highest TOC content (18.3%) than other fractions in car dust.Download high-res image (417KB)Download full-size imageFig. 2. The distribution of OPFRs, NBFRs and PBDEs among various size fractions (OPFR: organophosphate flame retardant; NBFR: novel brominated flame retardant; PBDE: polybrominated diphenyl ether).In contrast to OPFRs, there was no inverse relation between particle size and ∑PBDE concentrations (Fig. 2). For example, the highest PBDE concentrations were observed in fractions of 43–63 µm, 100–150 µm, and 63–100 µm for dust from offices, PME, and cars at 4.64, 4.10, and 204 μg/g. Several studies also reported that PBDEs are not the highest in the finest dust fraction (Cao et al., 2014b, Yu et al., 2013), which may be explained by their ways of entrance into dust. There are usually two pathways for FRs entering into indoor dust, i.e., volatilize–adsorption and abrasion (Cao et al., 2015). Less hydrophobic FRs (such as OPFRs) enter indoor dust through volatilization, and their distributions are mainly determined by dust surface area. In other words, OPFRs concentrations increase with the decrease of particle size. While abrasion processes might be the dominating route for less-volatile FRs migrating to indoor dust (such as PBDEs with Log Kow=5.88–12.1, Table S1) (Yu et al., 2013). Therefore FR release from abrasion process may show peak values in specific size fractions, which is determined by the size of abraded fragments. Among PBDEs, BDE209 was the most abundant compound sharing similar trend with ∑PBDEs, with the highest concentrations in 43–63 µm, 100–150 µm, and 63–100 µm fractions at 4.52, 3.81, and 203 μg/g for office, PME, and car dust (Table S2). While for those less hydrophobic PBDEs (BDE153, BDE154 and BDE183 with Log Kow= 7.9, 7.8 and 8.3) (Table S1), TOC was more influential on their distribution among various fractions. For instance, concentrations of BDE153 and BDE183 were the highest in 150–200 µm fraction for PME dust (0.27 and 0.03 μg/g; Table S2.2), and BDE153/154 were the highest in the 63–100 µm fraction for office dust (0.07 and 0.02 μg/g; Table S2.1), both of which had higher TOC contents (15.0% and 13.4%) than other fractions.With similar hydrophobicity with PBDEs (log Kow of NBFRs/DPs=6.17–11.3 vs PBDE log Kow=5.88–12.1, Table S1), the distribution of NBFRs/DPs in different size fractions was similar to that of PBDEs in PME dust but not in car and office dust. The largest concentrations were observed in the 100–150 µm fraction for PME dust at 8.66 μg/g (Fig. 2), indicating that NBFRs/DPs in PME dust mainly came from relatively coarse abraded fragments. However, a different distribution pattern was observed in office and car dust, i.e., NBFRs/DPs increased with decreasing particle size with the maximum concentration at 28.6 μg/g in the <43 µm fraction of car dust. For those less volatile FRs applied in soft materials such as cotton or polyester, they migrate into dust mainly through abraded large fragments like PBDEs and NBFRs in PME dust. However, some FRs are also added in abrasion-proof materials such as electrical hard plastics, so they migrate into dust mainly in relatively smaller fragments (Cao et al., 2014b). In other words, the opposite patterns for PME and office /car dust reflected the heterogeneity of NBFR/DP-containing consumer goods applied among these different microenvironments.Based on our data, it is expected that the distribution of FRs across different size fractions may depend on multiple factors including surface area, TOC, contaminant properties, and the pathway of FRs entering into the dust. To determine the main influencing factor, all FRs were pooled together and divided into three groups based on their hydrophobicity (i.e., Log Kow = 1–4, Log Kow = 4–9, and Log Kow > 9). The correlation between TOC contents and FR concentrations was conducted for the three groups in car dust (Fig. 3) as well as PME and office dust (Fig. S1). For FRs with Log Kow = 4–9, there was a positive correlation (r2 = 0.67–0.87, p < 0.05) between FR distribution and TOC, but no significant correlation was observed for FRs with Log Kow = 1–4 or >9 in all dust. For FRs with Log Kow = 1–4, they tend to volatilize into air, and can be adsorbed onto dust. In other words, their accumulation in dust is mainly controlled by dust surface area instead of TOC contents. As Log Kow increases, FRs become less volatile so TOC plays a more important role in their accumulation. Many studies showed that TOC plays a dominant role in sorbing hydrophobic contaminants with Log Kow=4–9, such as PAHs and PCBs in soils or sediments (Liu et al., 2007). However, for those highly hydrophobic contaminants (i.e., Log Kow >9), the interactions between particle and gas are weak due to their low volatility and low diffusive transport (Fang and Stapleton, 2014). In addition, some highly hydrophobic FRs tend to migrate with polymer debris into dust rather than adsorbed by dust particles (Yu et al., 2013), which further explained the weak correlation between these contaminants and TOC contents. Overall, the distribution of FRs among different size fractions was determined by dust particle surface area for FRs with Log Kow=1–4, TOC contents in dust particles for FRs with Log Kow=4–9, and pathways entering into dust for FRs with Log Kow>9.Download high-res image (243KB)Download full-size imageFig. 3. Correlation between TOC contents and flame retardant concentrations in various size fractions of car dust. (G1 means flame retardants with Log Kow=1–4; G2: flame retardants with Log Kow=4–9; G3: flame retardants with Log Kow>9).3.3. Bioaccessibility of FRs among different types of dustConsidering the risk through exposure to FRs in dust was influenced by their bioaccessibility, physiologically based extraction test (PBET), one of the most widely used in vitro methods, was adopted to measure the bioaccessibility of FRs in different dust fractions (Ruby et al., 2002, Tilston et al., 2011). The bioaccessibility of FRs was compared among different types of dust based on mean values across 6 size fractions (Table 2), with bioaccessibility for all FRs in each size fraction being provided in Table S3. For OPFRs, the mean bioaccessibility ranged from 1.8% for EDHPP in car dust to 82% for TCPP in office dust (Table 2). When compared with OPFRs, almost all NBFRs/DPs and PBDEs were below the detection limit except for BDE 209 in car dust with mean bioaccessibility at 3.3%. Low bioaccessible NBFRs/DPs and PBDEs in dust can be attributed to their high hydrophobicity, since previous studies as well as our work showed that the gastrointestinal solution in PBET cannot provide sufficient mobilization capacity for these sparsely-soluble contaminants (Juhasz et al., 2014, Li et al., 2016). When looking into different types of dust, the bioaccessibility of FRs for car dust were generally lower than those in the other two types of dust (Table 2), which may be partially explained by the higher contamination levels in car dust. During the in vitro extraction, FR mobilization in gastrointestinal solution may become slow as contaminant level increased (Holman et al., 2002). In other words, the system was not in equilibrium after 4 h extraction for car dust, which contained more FRs. Additionally, saturation may be expected if FR level is too high for extraction capacity of gastrointestinal solution. To test these hypothesis, the intestinal phase extraction time was extended from 4 to 8 h, or the solid: liquid ratio was increased from 1:100 to 1:200. The bioaccessibility of FRs in car dust was increased to some extent with longer time or higher volume of gastrointestinal solution. For instance, TPP bioaccessibility increased from 3.7 ± 2.2% at 4 h to 7.4 ± 2.4% at 8 h, while TCEP bioaccessibility became slightly higher at solid: liquid ratio of 1:200 (57.9 ± 9.8%) than 1:100 (45.7 ± 9.3%) (Table S4). However, bioaccessible FRs in car dust, though higher with longer incubation time or more gastrointestinal solution, were still much lower than those for the other two types of dust, e.g., bioaccessible TPP and TCEP in office dust were 12.5 ± 2.6% and 89.6 ± 14.6%. Therefore, the lower bioaccessibility observed for car dust probably also result from other factors, such as different materials used in vehicles or different ways for FRs migrating into car dust comparing with that in office and PME.Table 2. Mean bioaccessibility (%) of flame retardants in the three types dust samples.TCEPTCPPTDCPPTBPTPPEHDPPBDE 209Offices80.5%82.3%56.7%51.6%23.6%40.1%–PME67.9%69.4%15.3%48.6%6.5%19.7%–Cars50.1%41.3%9.4%46.6%5.2%1.8%3.3%Bioaccessible FRs were further compared among various size fractions (Fig. 4 and Table S3). In general, the highest bioaccessibility was found in 200–2000 µm fraction from 2.7 ± 0.6% (EHDPP in car dust) to 86.6 ± 3.5% (TCPP in PME dust), while the lowest was detected in the <43 µm fraction at 1.2 ± 0.1% (BDE 209 in car dust) −74.2 ± 12.5% (TCPP in office dust). However, statistically difference was only found between the <43 and 200–2000 µm fractions (p < 0.05) with no difference being observed among other size fractions (Fig. 4). Our result is comparable to a previous study where the bioaccessibility of PAHs is higher in the <4000 µm size fraction than that in the <45 µm size fraction since PAHs tend to remain in dust with higher organic contents and larger surface area (Siciliano et al., 2010). In our study, dust in the 200–2000 µm fraction had relatively smaller surface area (1.61–2.78 m2 g−1) and less TOC contents (7.23–10.9%, Table S2) than other fractions, which can explain the higher bioaccessible FRs observed in this fraction. For certain organic contaminants (e.g., PAHs, and OPFRs), the coarse fractions are often associated with lower contamination levels, and the risk through their ingestion may not be a concern even with higher bioaccessibility. However, for those hydrophobic FRs migrating into dust with the abraded large fragment, greater health threat may be expected for coarse fractions due to the elevated accumulation of FRs as well as their relatively higher bioaccessibility.Download high-res image (284KB)Download full-size imageFig. 4. The effect of particle size on TCEP/TPP bioaccessibility in different types of dust (i.e., office, PME, and car).3.4. Human exposure risk assessmentFor human exposure risk assessment for FRs in dust, most studies ignored dust size fractions as well as their bioaccessibility, which may influence risk estimations. In this study, we performed risk assessment based on dust size fractions and FR bioaccessibility. TCEP, the most dominant OPFR compound, was selected to calculate the ADDingest values. The highest ADDingest values were observed in the <43 µm fraction with 12.8, 29.7, and 147 ng/kg/d for office, PME and car dust, respectively, all of which were lower than the reference dose of TCEP is 2200 ng/kg/d (Abdallah and Covaci, 2014). While the lowest ADDingest values were observed in 200–2000 µm fraction with 4.92, 9.49, and 54.3 ng/kg/d, respectively (Fig. 5). The data indicated that different dust size led to significant differences in ADDingest estimation, e.g., exposure assessment using fine particles (F6) led to overestimation or underestimation with larger particles (F1).Download high-res image (295KB)Download full-size imageFig. 5. Average daily dose (ng/kg/d) of TCEP through non-dietary ingestion of indoor dust by adults among different size fractions in three type dust samples (i.e., office-left; public microenvironment (PME)-middle; car-right). Raw represents the ingestion dose calculated based on total concentrations and Bio represents the ingestion dose considering FR bioaccessibility.The highest ADD values were observed in <43 μm fraction for all dust without considering FR bioaccessibility, but different peak values were found among dust when FR bioaccessibility was accounted. For example, when incorporating TECP bioaccessibility, the peak values of ADDingest-bio shifted from <43 µm to 100–150 µm (10.0 ng/kg/d for office dust), 63–100 µm (19.4 ng/kg/d for PME dust), and 43–63 µm (65.0 ng/kg/d for car dust). The data indicated that particle size is important for risk assessment since FR distribution varied with particle size, and FR bioaccessibility also depended on particle size. For instance, TCEP bioaccessibility in 100–150 µm fraction in office dust at 93% was much higher than that in PME (70%) and car dust (50%). However, its bioaccessibility among three dust sample was similar in the <43 µm fractions in the range of 38–48%. Overall, size selection for dust sampling varies according to different purposes (Abdallah and Covaci, 2014, Ali et al., 2013, He et al., 2016). Though significantly different distribution was observed for FRs among different size fractions, it may be realistic to use the adherent dust (<100–200 µm) to conduct human exposure assessment. However, due to its variety among size fraction and dust category in the current study, FR bioaccessibility cannot be simply derived from one size or dust type, and it is crucial to measure FR bioaccessibility before assessing human health risk.3.5. Environmental implicationsOur results indicate that particle size is crucial to estimate the risk assessment through exposure to FRs in indoor dust, and overestimation or underestimation can occur if improper size selection sampling strategy is adopted. Therefore, standardization of size selection during dust sampling is necessary. In addition, greater variability for FR bioaccessibility existed among size fractions as well as dust types, inducing a more complicated scenario for risk assessment, bioaccessibility values therefore need to be measured instead of being empirically derived or standardized. On the other hand, a number of studies have investigated the regional FR contamination levels in indoor dust from many countries worldwide. However, their comparability was obstructed due to different strategies of dust sampling used in their studies. A clear understanding of particle size effect is useful to compare results from different studies and assess human exposure to FRs.AcknowledgmentsThis project was financially supported by grants from National Natural Science Foundation of China (no. 21577055) and the Fundamental Research Funds for the Central Universities (021114380033).Appendix A. Supplementary materialDownload Word document (187KB)Help with docx filesSupplementary material\n"
     ]
    }
   ],
   "source": [
    "body = soup.find('div', {'id' :\"body\"}).text\n",
    "print(body)"
   ]
  },
  {
   "cell_type": "code",
   "execution_count": 416,
   "metadata": {},
   "outputs": [
    {
     "name": "stdout",
     "output_type": "stream",
     "text": [
      "Reference number:  1\n",
      "M. Abdallah, A. CovaciOrganophosphate flame retardants in indoor dust from egypt: implications for human exposureEnviron. Sci. Technol., 48 (2014), p. 4782CrossRefView Record in ScopusGoogle Scholar\n",
      "\n",
      "Reference number:  2\n",
      "N. Ali, L. Ali, T. Mehdi, A.C. Dirtu, F. Al-Shammari, H. Neels, A. CovaciLevels and profiles of organochlorines and flame retardants in car and house dust from Kuwait and Pakistan: Implication for human exposure via dust ingestionEnviron. Int., 55 (2013), pp. 62-70ArticleDownload PDFView Record in ScopusGoogle Scholar\n",
      "\n",
      "Reference number:  3\n",
      "S.H. Brandsma, J. de Boer, P.E. Leonards, W.P. Cofino, A. Covaci, P.E. LeonardsOrganophosphorus flame-retardant and plasticizer analysis, including recommendations from the first worldwide interlaboratory studyTrAC-Trend. Anal. Chem., 43 (2013), pp. 217-228ArticleDownload PDFView Record in ScopusGoogle Scholar\n",
      "\n",
      "Reference number:  4\n",
      "S. Brommer, S. HarradSources and human exposure implications of concentrations of organophosphate flame retardants in dust from UK cars, classrooms, living rooms, and officesEnviron. Int., 83 (2015), pp. 202-207ArticleDownload PDFView Record in ScopusGoogle Scholar\n",
      "\n",
      "Reference number:  5\n",
      "W. Butte, B. HeinzowPollutants in house dust as indicators of indoor contaminationRev. Environ. Contam. T, 175 (2002), pp. 1-46View Record in ScopusGoogle Scholar\n",
      "\n",
      "Reference number:  6\n",
      "Z. Cao, F. Xu, A. Covaci, M. Wu, B. Wang, G. Yu, H. Wang, J. Huang, S. Deng, X. WangDistribution patterns of brominated, chlorinated and phosphorous flame retardants with particle size in indoor and outdoor dust and implications for human exposureEnviron. Sci. Technol., 48 (2014), pp. 8839-8846CrossRefView Record in ScopusGoogle Scholar\n",
      "\n",
      "Reference number:  7\n",
      "Z. Cao, F. Xu, A. Covaci, M. Wu, H. Wang, G. Yu, B. Wang, S. Deng, J. Huang, X. WangDistribution patterns of brominated, chlorinated, and phosphorus flame retardants with particle size in indoor and outdoor dust and implications for human exposureEnviron. Sci. Technol., 48 (2014), pp. 8839-8846CrossRefView Record in ScopusGoogle Scholar\n",
      "\n",
      "Reference number:  8\n",
      "Z. Cao, F. Xu, W.C. Li, J.H. Sun, M.H. Shen, X.F. Su, J.L. Feng, G. Yu, A. CovaciSeasonal and particle size-dependent variations of hexabromocyclododecanes in settled dust: implications for samplingEnviron. Sci. Technol., 49 (2015), pp. 11151-11157CrossRefView Record in ScopusGoogle Scholar\n",
      "\n",
      "Reference number:  9\n",
      "A. Covaci, S. Harrad, M.A.-E. Abdallah, N. Ali, R.J. Law, D. Herzke, C.A. de WitNovel brominated flame retardants: a review of their analysis, environmental fate and behaviourEnviron. Int., 37 (2011), pp. 532-556ArticleDownload PDFView Record in ScopusGoogle Scholar\n",
      "\n",
      "Reference number:  10\n",
      "M. Fang, H.M. StapletonEvaluating the bioaccessibility of flame retardants in house dust using an in vitro tenax bead-assisted sorptive physiologically based methodEnviron. Sci. Technol., 48 (2014), pp. 13323-13330CrossRefView Record in ScopusGoogle Scholar\n",
      "\n",
      "Reference number:  11\n",
      "S. Harrad, M.A.E. AbdallahBrominated flame retardants in dust from UK cars - Within-vehicle spatial variability, evidence for degradation and exposure implicationsChemosphere, 82 (2011), pp. 1240-1245ArticleDownload PDFView Record in ScopusGoogle Scholar\n",
      "\n",
      "Reference number:  12\n",
      "R. He, Y. Li, P. Xiang, C. Li, C. Zhou, S. Zhang, X. Cui, L.Q. MaOrganophosphorus flame retardants and phthalate esters in indoor dust from different microenvironments: bioaccessibility and risk assessmentChemosphere, 150 (2016), pp. 528-535ArticleDownload PDFView Record in ScopusGoogle Scholar\n",
      "\n",
      "Reference number:  13\n",
      "H.Y.N. Holman, R. Goth-Goldstein, D. Aston, M. Yun, J. KengsoontraEvaluation of gastrointestinal solubilization of petroleum hydrocarbon residues in soil using an in vitro physiologically based modelEnviron. Sci. Technol., 36 (2002), pp. 1281-1286CrossRefView Record in ScopusGoogle Scholar\n",
      "\n",
      "Reference number:  14\n",
      "B. Johnson-Restrepo, K. KannanAn assessment of sources and pathways of human exposure to polybrominated diphenyl ethers in the United StatesChemosphere, 76 (2009), pp. 542-548ArticleDownload PDFView Record in ScopusGoogle Scholar\n",
      "\n",
      "Reference number:  15\n",
      "A.L. Juhasz, J. Weber, G. Stevenson, D. Slee, D. Gancarz, A. Rofe, E. SmithIn vivo measurement, in vitro estimation and fugacity prediction of PAH bioavailability in post-remediated creosote-contaminated soilSci. Total Environ., 473 (2014), pp. 147-154ArticleDownload PDFView Record in ScopusGoogle Scholar\n",
      "\n",
      "Reference number:  16\n",
      "Y. Kang, Y.B. Man, K.C. Cheung, M.H. WongRisk assessment of human exposure to bioaccessible phthalate esters via indoor dust around the Pearl River DeltaEnviron. Sci. Technol., 46 (2012), pp. 8422-8430CrossRefView Record in ScopusGoogle Scholar\n",
      "\n",
      "Reference number:  17\n",
      "J.W. Kim, T. Isobe, A. Sudaryanto, G. Malarvannan, K.H. Chang, M. Muto, M. Prudente, S. TanabeOrganophosphorus flame retardants in house dust from the Philippines: occurrence and assessment of human exposureEnviron. Sci. Pollut. R, 20 (2013), pp. 812-822CrossRefView Record in ScopusGoogle Scholar\n",
      "\n",
      "Reference number:  18\n",
      "R.G. Lewis, C.R. Fortune, R.D. Willis, D.E. Camann, J.T. AntleyDistribution of pesticides and polycyclic aromatic hydrocarbons in house dust as a function of particle sizeEnviron. Health Persp., 107 (1999), p. 721CrossRefView Record in ScopusGoogle Scholar\n",
      "\n",
      "Reference number:  19\n",
      "C. Li, H.J. Sun, A.L. Juhasz, X.Y. Cui, L.Q. MaPredicting the relative bioavailability of DDT and its metabolites in historically-contaminated soils using a Tenax-improved physiologically-based extraction test (TI-PBET)Environ. Sci. Technol., 50 (2016), pp. 1118-1125CrossRefView Record in ScopusGoogle Scholar\n",
      "\n",
      "Reference number:  20\n",
      "M. Liu, S. Cheng, D. Ou, L. Hou, L. Gao, L. Wang, Y. Xie, Y. Yang, S. XuCharacterization, identification of road dust PAHs in central Shanghai areas, ChinaAtmos. Environ., 41 (2007), pp. 8785-8795ArticleDownload PDFView Record in ScopusGoogle Scholar\n",
      "\n",
      "Reference number:  21\n",
      "F. Mercier, P. Glorennec, O. Thomas, B.L. BotOrganic contamination of settled house dust, a review for exposure assessment purposesEnviron. Sci. Technol., 45 (2011), pp. 6716-6727CrossRefView Record in ScopusGoogle Scholar\n",
      "\n",
      "Reference number:  22\n",
      "L. Rostami, A.L. JuhaszAssessment of persistent organic pollutant (POP) bioavailability and bioaccessibility for human health exposure assessment: a critical reviewCrit. Rev. Env. Sci. Technol., 41 (2011), pp. 623-656CrossRefView Record in ScopusGoogle Scholar\n",
      "\n",
      "Reference number:  23\n",
      "M. Ruby, K. Fehling, D. Paustenbach, B. Landenberger, M. HolsappleOral bioaccessibility of dioxins/furans at low concentrations (50–350 ppt toxicity equivalent) in soilEnviron. Sci. Technol., 36 (2002), pp. 4905-4911CrossRefView Record in ScopusGoogle Scholar\n",
      "\n",
      "Reference number:  24\n",
      "S.D. Siciliano, B. Laird, C. LemieuxPolycyclic aromatic hydrocarbons are enriched but bioaccessibility reduced in brownfield soils adhered to human handsChemosphere, 80 (2010), pp. 1101-1108ArticleDownload PDFView Record in ScopusGoogle Scholar\n",
      "\n",
      "Reference number:  25\n",
      "H.M. Stapleton, S. Sharma, G. Getzinger, P.L. Ferguson, M. Gabriel, T.F. Webster, A. BlumNovel and high volume use flame retardants in US couches reflective of the 2005 Penta BDE phase outEnviron. Sci. Technol., 46 (2012), pp. 13432-13439CrossRefView Record in ScopusGoogle Scholar\n",
      "\n",
      "Reference number:  26\n",
      "S. Harrad, C. Ibarra, M.A.E. Abdallah, R. Boon, H. Neels, A. CovaciConcentrations of brominated flame retardants in dust from United Kingdom cars, homes, and offices: causes of variability and implications for human exposureEnviron. Int., 34 (2008), pp. 1170-1175Google Scholar\n",
      "\n",
      "Reference number:  27\n",
      "S.D. Shaw, A. Blum, R. Weber, K. Kannan, D. Rich, D. Lucas, C.P. Koshland, D. Dobraca, S. Hanson, L.S. BirnbaumHalogenated flame retardants: do the fire safety benefits justify the risks?Reviews on Environmental Health, 25 (2010)261-30Google Scholar\n",
      "\n",
      "Reference number:  28\n",
      "E. Sverko, G.T. Tomy, E.J. Reiner, Y.F. Li, B.E. McCarry, J.A. Arnot, R.J. Law, R.A. HitesDechlorane Plus and related compounds in the environment: a reviewEnviron. Sci. Technol., 45 (2011), pp. 5088-5098CrossRefView Record in ScopusGoogle Scholar\n",
      "\n",
      "Reference number:  29\n",
      "E. Tilston, G. Gibson, C. CollinsColon extended physiologically based extraction test (CE-PBET) increases bioaccessibility of soil-bound PAHEnviron. Sci. Technol., 45 (2011), pp. 5301-5308CrossRefView Record in ScopusGoogle Scholar\n",
      "\n",
      "Reference number:  30\n",
      "USEPA . Compilation of Air Pollutant Emission Factors, AP-42, 5th ed., 2.5: Open burning, 1995. 〈http://www.epa.gov/ttn/chief/ap42/ch02〉.Google Scholar\n",
      "\n",
      "Reference number:  31\n",
      "I. van der Veen, J. de BoerPhosphorus flame retardants: properties, production, environmental occurrence, toxicity and analysisChemosphere, 88 (2012), pp. 1119-1153ArticleDownload PDFView Record in ScopusGoogle Scholar\n",
      "\n",
      "Reference number:  32\n",
      "W. Wang, F.Y. Wu, M.J. Huang, Y. Kang, K.C. Cheung, M.H. WongSize fraction effect on phthalate esters accumulation, bioaccessibility and in vitro cytotoxicity of indoor/outdoor dust, and risk assessment of human exposureJ. Hazard. Mater., 261 (2013), pp. 753-762ArticleDownload PDFView Record in ScopusGoogle Scholar\n",
      "\n",
      "Reference number:  33\n",
      "W. Wang, M.-J. Huang, J.-S. Zheng, K.C. Cheung, M.H. WongExposure assessment and distribution of polychlorinated biphenyls (PCBs) contained in indoor and outdoor dusts and the impacts of particle size and bioaccessibilitySci. Total Environ., 463 (2013), pp. 1201-1209ArticleDownload PDFView Record in ScopusGoogle Scholar\n",
      "\n",
      "Reference number:  34\n",
      "C.A. Wilkie, A.B. MorganFire Retardancy of Polymeric MaterialsCRC press (2009)Google Scholar\n",
      "\n",
      "Reference number:  35\n",
      "Y.X. Yu, Y.P. Pang, C. Li, J.L. Li, X.Y. Zhang, Z.Q. Yu, J.L. Feng, M.H. Wu, G.Y. Sheng, J.M. FuConcentrations and seasonal variations of polybrominated diphenyl ethers (PBDEs) in in-and out-house dust and human daily intake via dust ingestion corrected with bioaccessibility of PBDEsEnviron. Int., 42 (2012), pp. 124-131ArticleDownload PDFView Record in ScopusGoogle Scholar\n",
      "\n",
      "Reference number:  36\n",
      "Y. Yu, D. Yang, X. Wang, N. Huang, X. Zhang, D. Zhang, J. FuFactors influencing on the bioaccessibility of polybrominated diphenyl ethers in size-specific dust from air conditioner filtersChemosphere, 93 (2013), pp. 2603-2611ArticleDownload PDFView Record in ScopusGoogle Scholar\n",
      "\n"
     ]
    }
   ],
   "source": [
    "# This block finds the references in the SD article\n",
    "refs = soup.find('div' > 'dl', {'class' : \"references\"})\n",
    "children = refs.findChildren(\"dd\" , recursive=False)\n",
    "i = 1\n",
    "for child in children:\n",
    "    print('Reference number: ',i)\n",
    "    print(child.text)\n",
    "    print()\n",
    "    i+=1"
   ]
  },
  {
   "cell_type": "code",
   "execution_count": 417,
   "metadata": {},
   "outputs": [],
   "source": [
    "driver.quit()"
   ]
  },
  {
   "cell_type": "code",
   "execution_count": null,
   "metadata": {},
   "outputs": [],
   "source": []
  }
 ],
 "metadata": {
  "kernelspec": {
   "display_name": "Python 3",
   "language": "python",
   "name": "python3"
  },
  "language_info": {
   "codemirror_mode": {
    "name": "ipython",
    "version": 3
   },
   "file_extension": ".py",
   "mimetype": "text/x-python",
   "name": "python",
   "nbconvert_exporter": "python",
   "pygments_lexer": "ipython3",
   "version": "3.7.3"
  }
 },
 "nbformat": 4,
 "nbformat_minor": 2
}
