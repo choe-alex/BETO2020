{
 "cells": [
  {
   "cell_type": "code",
   "execution_count": 8,
   "metadata": {},
   "outputs": [],
   "source": [
    "# import chemdataextractor as cde\n",
    "\n",
    "from chemdataextractor.relex import Snowball, ChemicalRelationship\n",
    "from chemdataextractor.model import BaseModel, StringType, ListType, ModelType, Compound\n",
    "from chemdataextractor.parse import R, I, W, Optional, merge, join, OneOrMore, Any, ZeroOrMore, Start\n",
    "from chemdataextractor.parse.cem import chemical_name, chemical_label\n",
    "from chemdataextractor.parse.base import BaseParser\n",
    "from chemdataextractor.parse.common import lrb, rrb, delim\n",
    "from chemdataextractor.utils import first\n",
    "from chemdataextractor.doc import Paragraph, Heading, Sentence\n",
    "from lxml import etree\n",
    "import re\n"
   ]
  },
  {
   "cell_type": "markdown",
   "metadata": {},
   "source": [
    "# Abbreviations \n",
    "\n",
    "#### Resources:\n",
    "* https://en.wikiversity.org/wiki/Python_Concepts/Regular_Expressions#\\d_and_\\D\n",
    "* http://dev.lexalytics.com/wiki/pmwiki.php?n=Main.POSTags\n",
    "\n",
    "W = Word (case sensitive)\n",
    "\n",
    "I = IWord (case insensetive)\n",
    "\n",
    "R = Regex (regular expression)\n",
    "\n",
    "T = Tag (match tag exactly)\n",
    "\n",
    "H = Hide\n",
    "\n",
    "lrb = left parenthesis\n",
    "\n",
    "rrb = right parenthesis\n",
    "\n",
    "^ = beginning of the string\n",
    "\n",
    "$ = end of the string\n",
    "\n",
    "| = or\n",
    "\n",
    "\\* = any number of\n",
    "\n",
    "\\+ = one or more of\n",
    "\n",
    "\\? = 0 or 1 of\n",
    "\n",
    "\\[ \\] = any listed within the brackets\n",
    "\n",
    "\\{ \\} = within the listed range\n",
    "\n",
    "\\( \\) = parentheses define a group\n",
    "\n",
    "\\d = any numeric character\n",
    "\n",
    "\\D = any non-numeric character"
   ]
  },
  {
   "cell_type": "code",
   "execution_count": 9,
   "metadata": {},
   "outputs": [],
   "source": [
    "class  CurieTemperature(BaseModel):\n",
    "    specifier = StringType()\n",
    "    value = StringType()\n",
    "    units = StringType()\n",
    "\n",
    "Compound.curie_temperatures = ListType(ModelType(CurieTemperature))"
   ]
  },
  {
   "cell_type": "code",
   "execution_count": 10,
   "metadata": {},
   "outputs": [],
   "source": [
    "# Define a very basic entity tagger\n",
    "specifier = (I('curie') + I('temperature') + Optional(lrb | delim) + Optional(R('^T(C|c)(urie)?')) + Optional(rrb) | R('^T(C|c)(urie)?'))('specifier').add_action(join)\n",
    "units = (R('^[CFK]\\.?$'))('units').add_action(merge)\n",
    "value = (R('^\\d+(\\.\\,\\d+)?$'))('value')"
   ]
  },
  {
   "cell_type": "code",
   "execution_count": 11,
   "metadata": {},
   "outputs": [],
   "source": [
    "\n",
    "# Let the entities be any combination of chemical names, specifier values and units\n",
    "entities = (chemical_name | specifier | value + units)\n",
    "\n",
    "# Now create a very generic parse phrase that will match any combination of these entities\n",
    "curie_temperature_phrase = (entities + OneOrMore(entities | Any()))('curie_temperature')\n",
    "\n",
    "# List all the entities\n",
    "curie_temp_entities = [chemical_name, specifier, value, units]\n"
   ]
  },
  {
   "cell_type": "code",
   "execution_count": null,
   "metadata": {},
   "outputs": [],
   "source": []
  }
 ],
 "metadata": {
  "kernelspec": {
   "display_name": "Python 3",
   "language": "python",
   "name": "python3"
  },
  "language_info": {
   "codemirror_mode": {
    "name": "ipython",
    "version": 3
   },
   "file_extension": ".py",
   "mimetype": "text/x-python",
   "name": "python",
   "nbconvert_exporter": "python",
   "pygments_lexer": "ipython3",
   "version": "3.6.5"
  }
 },
 "nbformat": 4,
 "nbformat_minor": 2
}
