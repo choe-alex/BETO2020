{
 "cells": [
  {
   "cell_type": "code",
   "execution_count": 1,
   "metadata": {},
   "outputs": [],
   "source": [
    "import numpy as np\n",
    "import pandas as pd\n",
    "import selenium\n",
    "from selenium import webdriver\n",
    "import bs4\n",
    "from bs4 import BeautifulSoup\n",
    "import time"
   ]
  },
  {
   "cell_type": "code",
   "execution_count": 4,
   "metadata": {
    "scrolled": true
   },
   "outputs": [
    {
     "name": "stdout",
     "output_type": "stream",
     "text": [
      "                                                    url\n",
      "0     https://www-sciencedirect-com.offcampus.lib.wa...\n",
      "1     https://www-sciencedirect-com.offcampus.lib.wa...\n",
      "2     https://www-sciencedirect-com.offcampus.lib.wa...\n",
      "3     https://www-sciencedirect-com.offcampus.lib.wa...\n",
      "4     https://www-sciencedirect-com.offcampus.lib.wa...\n",
      "5     https://www-sciencedirect-com.offcampus.lib.wa...\n",
      "6     https://www-sciencedirect-com.offcampus.lib.wa...\n",
      "7     https://www-sciencedirect-com.offcampus.lib.wa...\n",
      "8     https://www-sciencedirect-com.offcampus.lib.wa...\n",
      "9     https://www-sciencedirect-com.offcampus.lib.wa...\n",
      "10    https://www-sciencedirect-com.offcampus.lib.wa...\n",
      "11    https://www-sciencedirect-com.offcampus.lib.wa...\n",
      "12    https://www-sciencedirect-com.offcampus.lib.wa...\n",
      "13    https://www-sciencedirect-com.offcampus.lib.wa...\n",
      "14    https://www-sciencedirect-com.offcampus.lib.wa...\n",
      "15    https://www-sciencedirect-com.offcampus.lib.wa...\n",
      "16    https://www-sciencedirect-com.offcampus.lib.wa...\n",
      "17    https://www-sciencedirect-com.offcampus.lib.wa...\n",
      "18    https://www-sciencedirect-com.offcampus.lib.wa...\n",
      "19    https://www-sciencedirect-com.offcampus.lib.wa...\n",
      "20    https://www-sciencedirect-com.offcampus.lib.wa...\n",
      "21    https://www-sciencedirect-com.offcampus.lib.wa...\n",
      "22    https://www-sciencedirect-com.offcampus.lib.wa...\n",
      "23    https://www-sciencedirect-com.offcampus.lib.wa...\n",
      "24    https://www-sciencedirect-com.offcampus.lib.wa...\n",
      "25    https://www-sciencedirect-com.offcampus.lib.wa...\n",
      "26    https://www-sciencedirect-com.offcampus.lib.wa...\n",
      "27    https://www-sciencedirect-com.offcampus.lib.wa...\n",
      "28    https://www-sciencedirect-com.offcampus.lib.wa...\n",
      "29    https://www-sciencedirect-com.offcampus.lib.wa...\n",
      "...                                                 ...\n",
      "3215  https://www-sciencedirect-com.offcampus.lib.wa...\n",
      "3216  https://www-sciencedirect-com.offcampus.lib.wa...\n",
      "3217  https://www-sciencedirect-com.offcampus.lib.wa...\n",
      "3218  https://www-sciencedirect-com.offcampus.lib.wa...\n",
      "3219  https://www-sciencedirect-com.offcampus.lib.wa...\n",
      "3220  https://www-sciencedirect-com.offcampus.lib.wa...\n",
      "3221  https://www-sciencedirect-com.offcampus.lib.wa...\n",
      "3222  https://www-sciencedirect-com.offcampus.lib.wa...\n",
      "3223  https://www-sciencedirect-com.offcampus.lib.wa...\n",
      "3224  https://www-sciencedirect-com.offcampus.lib.wa...\n",
      "3225  https://www-sciencedirect-com.offcampus.lib.wa...\n",
      "3226  https://www-sciencedirect-com.offcampus.lib.wa...\n",
      "3227  https://www-sciencedirect-com.offcampus.lib.wa...\n",
      "3228  https://www-sciencedirect-com.offcampus.lib.wa...\n",
      "3229  https://www-sciencedirect-com.offcampus.lib.wa...\n",
      "3230  https://www-sciencedirect-com.offcampus.lib.wa...\n",
      "3231  https://www-sciencedirect-com.offcampus.lib.wa...\n",
      "3232  https://www-sciencedirect-com.offcampus.lib.wa...\n",
      "3233  https://www-sciencedirect-com.offcampus.lib.wa...\n",
      "3234  https://www-sciencedirect-com.offcampus.lib.wa...\n",
      "3235  https://www-sciencedirect-com.offcampus.lib.wa...\n",
      "3236  https://www-sciencedirect-com.offcampus.lib.wa...\n",
      "3237  https://www-sciencedirect-com.offcampus.lib.wa...\n",
      "3238  https://www-sciencedirect-com.offcampus.lib.wa...\n",
      "3239  https://www-sciencedirect-com.offcampus.lib.wa...\n",
      "3240  https://www-sciencedirect-com.offcampus.lib.wa...\n",
      "3241  https://www-sciencedirect-com.offcampus.lib.wa...\n",
      "3242  https://www-sciencedirect-com.offcampus.lib.wa...\n",
      "3243  https://www-sciencedirect-com.offcampus.lib.wa...\n",
      "3244  https://www-sciencedirect-com.offcampus.lib.wa...\n",
      "\n",
      "[3245 rows x 1 columns]\n"
     ]
    }
   ],
   "source": [
    "df = pd.read_csv('sd_test.txt',header=None, names=['url'])\n",
    "print(df)"
   ]
  },
  {
   "cell_type": "code",
   "execution_count": 12,
   "metadata": {
    "scrolled": false
   },
   "outputs": [
    {
     "name": "stdout",
     "output_type": "stream",
     "text": [
      "Laser-Induced Chemistry and Desorption of Organic Monolayers\n"
     ]
    }
   ],
   "source": [
    "driver = webdriver.Chrome()\n",
    "url = 'https://pubs-acs-org.offcampus.lib.washington.edu/doi/10.1021/jp0708401'\n",
    "driver.get(url)\n",
    "time.sleep(2) # important\n",
    "\n",
    "html_doc = driver.page_source # stores the source HTML code in the driver's page_source attribute\n",
    "soup = BeautifulSoup(html_doc, 'html.parser')\n",
    "\n",
    "title = soup.find('span', {'class': \"hlFld-Tiltle\"}).text\n",
    "print(title)\n",
    "\n",
    "abstract = soup.find('p', {'class': \"articleBody_abstractText\"})"
   ]
  },
  {
   "cell_type": "code",
   "execution_count": 13,
   "metadata": {},
   "outputs": [
    {
     "name": "stdout",
     "output_type": "stream",
     "text": [
      "<p class=\"articleBody_abstractText\">Laser-induced desorption of organic monolayers (LIDOM) is performed to analyze the chemical nature, thermal stability, and fragmentation pattern of organic silicon terminations based on calibration of surface heating introduced with a XeCl laser (308 nm). Results are presented for trimethylsilyl- (TMS) and 1-norbornen-2-yl(ethyl)dimethylsilyl- (NDMS) terminated surfaces which were prepared by silanization with suitable chloro compounds. Depending on laser fluence, either essentially intact end groups are emitted from the surface or specific fragmentation patterns are generated preferentially at higher energy densities. Clean retro Diels−Alder cleavage (rDA) was initiated in a norbonen compound at low fluences (110−200 mJ/cm<sup>2</sup>), providing reactive surface moieties such as double bonds that can be used as a starting point for controlled secondary surface reactions. At fluences above 200 mJ/cm<sup>2</sup> fragmentation of the NDMS group takes place. </p>\n"
     ]
    }
   ],
   "source": [
    "print(abstract)"
   ]
  },
  {
   "cell_type": "code",
   "execution_count": 14,
   "metadata": {},
   "outputs": [
    {
     "name": "stdout",
     "output_type": "stream",
     "text": [
      "https://doi.org/10.1021/jp0708401\n"
     ]
    }
   ],
   "source": [
    "doi = soup.find('div',{'class':\"article_header-doiurl\"}).text\n",
    "print(doi)"
   ]
  },
  {
   "cell_type": "code",
   "execution_count": null,
   "metadata": {},
   "outputs": [],
   "source": []
  }
 ],
 "metadata": {
  "kernelspec": {
   "display_name": "Python 3",
   "language": "python",
   "name": "python3"
  },
  "language_info": {
   "codemirror_mode": {
    "name": "ipython",
    "version": 3
   },
   "file_extension": ".py",
   "mimetype": "text/x-python",
   "name": "python",
   "nbconvert_exporter": "python",
   "pygments_lexer": "ipython3",
   "version": "3.7.3"
  }
 },
 "nbformat": 4,
 "nbformat_minor": 2
}
