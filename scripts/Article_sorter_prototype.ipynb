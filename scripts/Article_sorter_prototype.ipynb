{
 "cells": [
  {
   "cell_type": "code",
   "execution_count": 1,
   "metadata": {},
   "outputs": [],
   "source": [
    "import numpy as np\n",
    "import pandas as pd\n",
    "import selenium\n",
    "from selenium import webdriver\n",
    "import bs4\n",
    "from bs4 import BeautifulSoup\n",
    "import time\n",
    "import re\n",
    "import nltk\n",
    "from gensim.models import Word2Vec\n",
    "from collections import defaultdict"
   ]
  },
  {
   "cell_type": "code",
   "execution_count": 3,
   "metadata": {
    "scrolled": true
   },
   "outputs": [
    {
     "name": "stdout",
     "output_type": "stream",
     "text": [
      "The parser will parse: 20 urls.\n",
      "Input the file name with .txt extension you wish to store extracted data in: sd_abstracts.txt\n",
      "On url  0\n",
      "On url  1\n",
      "On url  2\n",
      "On url  3\n",
      "On url  4\n",
      "On url  5\n",
      "On url  6\n",
      "On url  7\n",
      "On url  8\n",
      "On url  9\n",
      "On url  10\n",
      "On url  11\n",
      "On url  12\n",
      "On url  13\n",
      "On url  14\n",
      "On url  15\n",
      "On url  16\n",
      "On url  17\n",
      "On url  18\n",
      "On url  19\n"
     ]
    }
   ],
   "source": [
    "# Extraction of abstracts from urls and writing to a single text file\n",
    "def extractor(url,driver,wait_time):\n",
    "    \"\"\"\n",
    "    Accepts a url and stores its html code before parsing and extracting the title,\n",
    "    abstract, doi, and the body as text.\n",
    "    \"\"\"\n",
    "    driver = webdriver.Chrome()\n",
    "    driver.get(url)\n",
    "    time.sleep(wait_time) # important\n",
    "\n",
    "    html_doc = driver.page_source # stores the source HTML code in the driver's page_source attribute\n",
    "    soup = BeautifulSoup(html_doc, 'html.parser')\n",
    "    abstract = soup.find('div', {'class':\"Abstracts u-font-serif\"}).text\n",
    "\n",
    "    return abstract\n",
    "\n",
    "def parse_all(max_iters,driver,data):\n",
    "    \"\"\"\n",
    "    The following method is designed to automatically parse each url contained in a long list \n",
    "    of scraped urls, and writes the title, abstract, and doi to a new text file with a user\n",
    "    input \"file_name.txt.\"\n",
    "    \n",
    "    Arguments:\n",
    "    max_iters - total number of scraped urls to be parsed\n",
    "    driver - desired webdriver\n",
    "    data - text file containing a list of the scraped urls\n",
    "    file - the new text file given by the user input\n",
    "    \"\"\"\n",
    "    for i in range(0,max_iters):\n",
    "        print('On url ',i)\n",
    "        driver.refresh()\n",
    "        time.sleep(2)\n",
    "        urli = str(extractor(data.iloc[i,0],driver,3))\n",
    "        file.write(urli)\n",
    "        file.write('\\n')\n",
    "  \n",
    "\n",
    "driver = webdriver.Chrome()\n",
    "data = pd.read_csv('corrosion_inhib_2s.txt',header=None,names=['url']) # The local file containing a list of scraped urls\n",
    "max_iters = len(data)\n",
    "print(\"The parser will parse: \" + str(max_iters) + \" urls.\")\n",
    "file_name = input(\"Input the file name with .txt extension you wish to store extracted data in: \")\n",
    "file = open(file_name,'w')\n",
    "\n",
    "parse_all(max_iters,driver,data)\n",
    "\n",
    "driver.quit()"
   ]
  },
  {
   "cell_type": "code",
   "execution_count": 8,
   "metadata": {},
   "outputs": [
    {
     "name": "stdout",
     "output_type": "stream",
     "text": [
      "[['highlights', 'ppm', 'amp', 'marginal', 'effect', 'corrosion', 'x', 'steel', 'corrosion', 'rate', 'decreased', 'amp', 'concentration', 'increased', 'flow', 'found', 'accelerate', 'propagation', 'pits', 'combination', 'pz', 'amp', 'could', 'inhibit', 'pitting', 'corrosion', 'efficiently', 'amp', 'pz', 'inhibited', 'corrosion', 'owing', 'neutralization', 'adsorption', 'effects', 'abstractthe', 'corrosion', 'steels', 'supercritical', 'co', 'environment', 'impurities', 'carbon', 'capture', 'utilization', 'storage', 'system', 'attracted', 'great', 'interests', 'recent', 'years', 'work', 'corrosion', 'inhibition', 'mechanisms', 'residual', 'amino', 'methyl', 'propanol', 'piperazine', 'co', 'capture', 'process', 'x', 'steel', 'within', 'impure', 'supercritical', 'co', 'environment', 'investigated', 'weight', 'loss', 'method', 'surface', 'analysis', 'techniques', 'results', 'showed', 'small', 'amount', 'amino', 'methyl', 'propanol', 'marginal', 'effect', 'corrosion', 'steel', 'corrosion', 'rate', 'decreased', 'amino', 'methyl', 'propanol', 'concentration', 'increased', 'ppm', 'amino', 'methyl', 'propanol', 'ppm', 'piperazine', 'added', 'lowest', 'corrosion', 'rate', 'observed', 'reaching', 'mm', 'meanwhile', 'pitting', 'corrosion', 'observed', 'conditions', 'combination', 'amino', 'methyl', 'propanol', 'piperazine', 'inhibit', 'pitting', 'corrosion', 'efficiently', 'flow', 'accelerated', 'propagation', 'pits', 'presence', 'amino', 'methyl', 'propanol', 'feso', 'confirmed', 'corrosion', 'product', 'conditions', 'rnh', 'pzh', 'fe', 'fe', 'detected', 'corrosion', 'products', 'depending', 'test', 'conditions', 'results', 'indicated', 'inhibition', 'mechanism', 'piperazine', 'amino', 'methyl', 'propanol', 'attributed', 'neutralization', 'adsorption', 'effects', 'steel', 'surface', 'non', 'uniform', 'adsorption', 'inhibition', 'mechanism', 'proposed', 'based', 'test', 'results'], ['abstractthe', 'synergism', 'imidazole', 'imz', 'poly', 'ethylene', 'glycol', 'peg', 'zinc', 'corrosion', 'inhibition', 'mol', 'l', 'koh', 'solution', 'investigated', 'using', 'combination', 'electrochemical', 'gravimetric', 'methods', 'surface', 'morphology', 'zinc', 'observed', 'scanning', 'electron', 'microscopy', 'found', 'synergistic', 'effect', 'imz', 'peg', 'zinc', 'corrosion', 'inhibition', 'difference', 'molecular', 'structure', 'ring', 'imz', 'chain', 'peg', 'binding', 'atoms', 'zinc', 'nitrogen', 'imz', 'oxygen', 'peg', 'contributes', 'synergistic', 'effect', 'imz', 'inhibits', 'zinc', 'corrosion', 'mainly', 'depressing', 'anodic', 'reaction', 'whereas', 'peg', 'depressing', 'cathodic', 'reaction', 'storage', 'performance', 'zinc', 'manganese', 'dioxide', 'batteries', 'using', 'imz', 'peg', 'inhibitors', 'determined', 'discharge', 'test', 'comparison', 'battery', 'using', 'mercury', 'inhibitor', 'battery', 'containing', 'imz', 'peg', 'exhibits', 'better', 'performance', 'mercury', 'containing', 'battery', 'especially', 'discharged', 'high', 'rate', 'highlights', 'kind', 'environmentally', 'benign', 'organic', 'composite', 'additives', 'used', 'firstly', 'corrosion', 'zinc', 'inhibited', 'used', 'organic', 'compound', 'additive', 'rate', 'performance', 'battery', 'used', 'organic', 'compound', 'additive', 'improved', 'synergism', 'composite', 'additives', 'zinc', 'corrosion', 'inhibition', 'investigated'], ['abstractcorrosion', 'inhibition', 'carbon', 'steel', 'hydrochloric', 'acid', 'solution', 'inspected', 'using', 'newly', 'benzylidene', 'aniline', 'derivatives', 'namely', 'e', 'n', 'chlorobenzylidene', 'fluorobenzenamine', 'ncf', 'e', 'n', 'chlorobenzylidene', 'chloro', 'methylbenzenamine', 'nccm', 'potentiodynamic', 'polarization', 'electrochemical', 'impedance', 'spectroscopy', 'eis', 'techniques', 'experimental', 'results', 'showed', 'ncf', 'nccm', 'good', 'inhibitors', 'carbon', 'steel', 'hcl', 'inhibition', 'efficiency', 'increases', 'inhibitors', 'concentration', 'rise', 'reaching', 'value', 'inhibitor', 'ncf', 'electrochemical', 'impedance', 'data', 'show', 'frequency', 'distribution', 'capacitance', 'simulated', 'constant', 'phase', 'element', 'cpe', 'polarization', 'curves', 'study', 'revealed', 'inhibitors', 'mixed', 'type', 'adsorption', 'carbon', 'steel', 'surface', 'follows', 'langmuir', 'isotherm', 'model', 'negative', 'values', 'gads', 'math', 'mrow', 'true', 'mi', 'mathvariant', 'normal', 'true', 'mi', 'msubsup', 'true', 'mrow', 'true', 'mi', 'true', 'g', 'mi', 'mrow', 'mrow', 'true', 'mi', 'mathvariant', 'italic', 'true', 'ads', 'mi', 'mrow', 'mrow', 'true', 'mn', 'true', 'mn', 'mrow', 'msubsup', 'mrow', 'math', 'thermodynamics', 'data', 'adsorption', 'process', 'calculated', 'discussed', 'effect', 'molecular', 'structure', 'inhibition', 'efficiency', 'investigated', 'quantum', 'chemical', 'calculations', 'using', 'density', 'function', 'theory', 'dft', 'furthermore', 'monte', 'carlo', 'simulation', 'technique', 'incorporating', 'molecular', 'mechanics', 'molecular', 'dynamic', 'applied', 'search', 'best', 'configurationally', 'space', 'nccm', 'ncf', 'h', 'fe', 'systems', 'results', 'indicate', 'adsorption', 'energy', 'ncf', 'greater', 'nccm', 'accordance', 'experimentally', 'determined', 'inhibition', 'efficiency'], ['abstractthe', 'efficiency', 'hexamethylenetetramine', 'hmta', 'corrosion', 'inhibitors', 'steel', 'de', 'aerated', 'hcl', 'h', 'h', 'hcl', 'solutions', 'determined', 'electrochemical', 'studies', 'found', 'hmta', 'acts', 'good', 'corrosion', 'inhibitor', 'steel', 'corrosion', 'acids', 'solutions', 'increase', 'inhibition', 'efficiency', 'increase', 'concentrations', 'hmta', 'shows', 'inhibition', 'actions', 'due', 'adsorption', 'steel', 'surface', 'adsorption', 'follows', 'langmuir', 'isotherm', 'adsorption', 'isotherms', 'values', 'equilibrium', 'constant', 'kads', 'values', 'free', 'energies', 'adsorption', 'gads', 'math', 'mrow', 'true', 'mstyle', 'mathvariant', 'normal', 'true', 'mi', 'true', 'mi', 'mstyle', 'msub', 'true', 'mi', 'true', 'g', 'mi', 'mrow', 'true', 'mtext', 'true', 'ads', 'mtext', 'mrow', 'msub', 'mo', 'true', 'mo', 'mrow', 'math', 'calculated', 'effect', 'temperature', 'corrosion', 'behaviour', 'presence', 'inhibitors', 'studied', 'temperature', 'range', 'k', 'inhibition', 'efficiency', 'hmta', 'increased', 'increasing', 'temperature', 'k', 'activation', 'energies', 'ea', 'math', 'mrow', 'true', 'msubsup', 'true', 'mi', 'true', 'e', 'mi', 'mtext', 'true', 'mtext', 'mo', 'true', 'mo', 'msubsup', 'mrow', 'math', 'calculated', 'obtained', 'corrosion', 'rates', 'different', 'temperatures', 'results', 'obtained', 'potentiodynamic', 'polarisation', 'ac', 'impedance', 'measurements', 'reveal', 'compound', 'effective', 'inhibitor', 'corrosion', 'steel', 'behave', 'better', 'hcl', 'h', 'surface', 'analyses', 'also', 'carried', 'establish', 'mechanism', 'corrosion', 'inhibition', 'steel', 'acidic', 'media'], ['abstracta', 'simple', 'sol', 'gel', 'technique', 'preparation', 'methyl', 'modified', 'silica', 'coatings', 'protection', 'external', 'surface', 'copper', 'used', 'study', 'tetraethylorthosilicate', 'teos', 'used', 'precursor', 'prepare', 'nanosilica', 'coatings', 'surface', 'copper', 'methyl', 'modified', 'silica', 'sols', 'obtained', 'mixing', 'sio', 'sol', 'solution', 'trimethylchlorosilane', 'tmcs', 'hexamethyldisilozane', 'hmds', 'basic', 'materials', 'comparison', 'copper', 'substrates', 'also', 'coated', 'commercial', 'polymers', 'paraloid', 'b', 'plexisol', 'p', 'polyvinyl', 'butyral', 'pvb', 'surface', 'morphology', 'changes', 'uncoated', 'coated', 'specimens', 'investigated', 'atomic', 'force', 'microscopy', 'afm', 'scanning', 'electron', 'microscopy', 'sem', 'hydrophobicity', 'surfaces', 'photochemical', 'ageing', 'effects', 'evaluated', 'contact', 'angle', 'measurements', 'potentiodynamic', 'measurements', 'obtained', 'order', 'compare', 'corrosion', 'parameters', 'coatings'], ['highlights', 'watermelon', 'rind', 'extracts', 'inhibited', 'mild', 'steel', 'corrosion', 'hcl', 'h', 'solutions', 'adsorption', 'wmre', 'follow', 'temkin', 'isotherm', 'model', 'extracts', 'behave', 'mixed', 'type', 'inhibitor', 'media', 'results', 'methods', 'reasonable', 'agreement', 'wmre', 'better', 'inhibitor', 'hcl', 'h', 'solution', 'abstractelectrochemical', 'techniques', 'used', 'investigate', 'efficacy', 'watermelon', 'rind', 'extract', 'wmre', 'corrosion', 'inhibitor', 'mild', 'steel', 'hcl', 'h', 'solutions', 'inhibition', 'efficiency', 'increased', 'concentration', 'extract', 'increases', 'potentiodynamic', 'polarization', 'results', 'indicate', 'wmre', 'act', 'mixed', 'type', 'inhibitor', 'values', 'effective', 'capacitance', 'obtained', 'utilizing', 'impedance', 'parameters', 'acidic', 'media', 'range', 'double', 'layer', 'capacitance', 'corrosion', 'inhibition', 'effect', 'wmre', 'attributed', 'adsorption', 'constituents', 'wmre', 'onto', 'mild', 'steel', 'surface', 'approximated', 'temkin', 'adsorption', 'isotherm', 'model', 'graphical', 'abstractdownload', 'full', 'size', 'image'], ['highlights', 'matters', 'alkoxysilane', 'attached', 'bpa', 'epoxide', 'attachment', 'onto', 'secondary', 'hydroxide', 'group', 'repeat', 'unit', 'appears', 'diminish', 'overall', 'crosslink', 'density', 'alkoxylsilane', 'modified', 'amine', 'position', 'bpa', 'epoxide', 'showed', 'better', 'corrosion', 'resistance', 'abstractbisphenol', 'bpa', 'epoxy', 'modified', 'amine', 'functionalized', 'silane', 'ase', 'isocyanate', 'functionalized', 'silane', 'ise', 'modified', 'epoxides', 'blended', 'tetraethyl', 'orthosilicate', 'oligomers', 'teos', 'oligomers', 'titanium', 'dioxide', 'tio', 'hybrid', 'networks', 'characterized', 'solid', 'state', 'si', 'nmr', 'contact', 'angle', 'crosslink', 'density', 'pull', 'adhesions', 'crosshatch', 'adhesion', 'corrosion', 'resistance', 'examined', 'salt', 'spray', 'test', 'filiform', 'test', 'electrochemical', 'impedance', 'spectroscopy', 'eis', 'modified', 'epoxides', 'addition', 'teos', 'oligomer', 'tio', 'fillers', 'showed', 'improvement', 'mechanical', 'properties', 'broader', 'degree', 'cross', 'linkage', 'observed', 'ise', 'based', 'coatings', 'contrast', 'ase', 'based', 'coatings', 'uniform', 'crosslink', 'distribution', 'higher', 'crosslink', 'density', 'addition', 'tio', 'fillers', 'increase', 'percolation', 'root', 'ise', 'epoxide', 'eliminated', 'blending', 'teos', 'oligomer', 'teos', 'oligomer', 'addition', 'crosslinked', 'ise', 'showed', 'complete', 'condensation', 'high', 'pull', 'adhesion', 'lb', 'homogeneous', 'higher', 'crosslinked', 'polymer', 'matrix', 'ase', 'resulted', 'higher', 'diffusion', 'resistance', 'consequence', 'exhibits', 'good', 'barrier', 'protection', 'long', 'term', 'immersion', 'conditions', 'compared', 'lower', 'cross', 'linked', 'ise', 'epoxide'], ['abstractthe', 'synthesized', 'cationic', 'surfactant', 'n', 'mercaptoacetoxy', 'ethyl', 'n', 'n', 'dimethyldodecan', 'aminium', 'bromide', 'qsh', 'used', 'prepare', 'colloidal', 'copper', 'nanoparticles', 'cunps', 'water', 'chemical', 'reduction', 'method', 'obtained', 'copper', 'nanoparticles', 'characterized', 'ftir', 'spectrum', 'transmission', 'electron', 'microscopy', 'tem', 'corrosion', 'performance', 'evaluated', 'using', 'potentiodynamic', 'polarization', 'electrochemical', 'impedance', 'spectroscopy', 'eis', 'measurements', 'addition', 'salt', 'spray', 'test', 'results', 'obtained', 'methods', 'good', 'agreement', 'results', 'showed', 'modified', 'coating', 'provide', 'good', 'coverage', 'additional', 'corrosion', 'protection', 'carbon', 'steel'], ['highlights', 'al', 'al', 'cr', 'tritium', 'permeation', 'barriers', 'prepared', 'metal', 'organic', 'decomposition', 'mod', 'method', 'nanohardness', 'corrossion', 'resistance', 'al', 'mod', 'coatings', 'improved', 'cr', 'buffer', 'al', 'mod', 'single', 'layer', 'tends', 'perform', 'lower', 'deuterium', 'permeability', 'higher', 'temperature', 'abstractfour', 'kinds', 'well', 'crystallized', 'tritium', 'permeation', 'barrier', 'coatings', 'including', 'al', 'al', 'al', 'cr', 'al', 'cr', 'prepared', 'metal', 'organic', 'decomposition', 'mod', 'method', 'using', 'dipping', 'technique', 'study', 'concentrated', 'preparation', 'properties', 'al', 'al', 'cr', 'double', 'layer', 'coatings', 'results', 'showed', 'al', 'coating', 'exhibited', 'pure', 'phase', 'structure', 'entirely', 'directly', 'transformed', 'al', 'annealing', 'temperature', 'c', 'obvious', 'substrate', 'oxides', 'formed', 'unannealed', 'cr', 'mod', 'layer', 'thickness', 'featured', 'higher', 'crystallization', 'taken', 'buffer', 'layer', 'however', 'template', 'effect', 'cr', 'obvious', 'formation', 'temperature', 'al', 'decrease', 'corrosion', 'resistance', 'cm', 'nanohardness', 'gpa', 'al', 'cr', 'double', 'layer', 'coating', 'improved', 'compared', 'al', 'al', 'al', 'cr', 'coatings', 'contrast', 'deuterium', 'permeation', 'test', 'showed', 'al', 'mod', 'coating', 'lowest', 'deuterium', 'ion', 'current', 'temperatures', 'c', 'films', 'considered', 'study', 'demonstrating', 'better', 'resistance', 'deuterium', 'permeation', 'relevant', 'mechanisms', 'explanations', 'discussed', 'detail'], ['abstractlaboratory', 'investigations', 'performed', 'order', 'assess', 'effectiveness', 'inhibition', 'mechanism', 'amino', 'alcohol', 'based', 'inhibitor', 'currently', 'used', 'admixture', 'prevent', 'corrosion', 'steel', 'concrete', 'investigation', 'performed', 'presence', 'chloride', 'ions', 'using', 'solutions', 'simulating', 'concrete', 'interstitial', 'solution', 'electrochemical', 'measurements', 'allowed', 'conclude', 'inhibitor', 'film', 'formed', 'surface', 'hindering', 'anodic', 'activity', 'furthermore', 'analytical', 'investigation', 'use', 'x', 'ray', 'photoelectron', 'spectroscopy', 'xps', 'shows', 'inhibitor', 'film', 'able', 'complex', 'chloride', 'ion'], ['abstractin', 'study', 'protective', 'film', 'consisting', 'ultrathin', 'two', 'dimensional', 'polymer', 'prepared', 'hydrolysis', 'mercaptopropyl', 'trimethoxysilane', 'ethanol', 'self', 'assembled', 'monolayer', 'grafted', 'onto', 'copper', 'subsequent', 'modification', 'heptofluoroisopropoxy', 'propyltrichlorosilane', 'toluene', 'stage', 'preparation', 'characterized', 'x', 'ray', 'photoelectron', 'spectroscopy', 'xps', 'copper', 'corrosion', 'inhibitive', 'properties', 'assessed', 'cyclic', 'voltammetry', 'measurements', 'carried', 'naoh', 'medium', 'remarkable', 'enhancement', 'copper', 'corrosion', 'protection', 'obtained', 'formation', 'lateral', 'siloxane', 'linkages', 'mpts', 'molecules', 'absorbed', 'followed', 'grafting', 'second', 'molecular', 'layer'], ['highlights', 'pyr', 'good', 'mixed', 'type', 'inhibitor', 'steel', 'h', 'solution', 'inhibition', 'results', 'surface', 'geometric', 'blocking', 'chemisorbed', 'species', 'maximal', 'inhibition', 'efficiency', 'k', 'mm', 'bipyrazole', 'derivative', 'studied', 'bipyrazole', 'resists', 'corrosion', 'efficiently', 'even', 'higher', 'temperature', 'abstract', 'bis', 'dimethyl', 'pyrazol', 'ylmethyl', 'amino', 'bis', 'dimethyl', 'pyrazol', 'ylmethyl', 'carbamoyl', 'butyric', 'acid', 'pyr', 'evaluated', 'corrosion', 'inhibitor', 'carbon', 'steel', 'using', 'weight', 'loss', 'electrochemical', 'polarization', 'eis', 'study', 'also', 'complemented', 'scanning', 'electron', 'microscopy', 'sem', 'quantum', 'chemical', 'calculations', 'inhibition', 'efficiency', 'increased', 'increasing', 'pyr', 'concentration', 'showing', 'maximum', 'ie', 'k', 'decreased', 'increasing', 'temperature', 'electrochemical', 'studies', 'showed', 'pyr', 'inhibitor', 'retards', 'cathodic', 'anodic', 'processes', 'inhibitor', 'adsorption', 'metal', 'surface', 'blocking', 'active', 'corrosion', 'sites', 'corrosion', 'current', 'density', 'order', 'cm', 'pyr', 'optimum', 'concentration', 'eis', 'results', 'show', 'change', 'impedance', 'parameters', 'rct', 'cdl', 'concentration', 'pyr', 'indicative', 'adsorption', 'molecules', 'leading', 'formation', 'protective', 'layer', 'surface', 'carbon', 'steel', 'good', 'fit', 'langmuir', 'adsorption', 'isotherm', 'obtained', 'surface', 'coverage', 'degree', 'inhibitor', 'concentration', 'results', 'obtained', 'weight', 'loss', 'measurements', 'consistent', 'results', 'electrochemical', 'study', 'quantum', 'chemical', 'approach', 'used', 'calculate', 'electronic', 'properties', 'molecule', 'ascertain', 'relation', 'inhibitive', 'effect', 'molecular', 'structure', 'equilibrium', 'adsorption', 'behavior', 'molecule', 'fe', 'surface', 'investigated', 'using', 'molecular', 'dynamics', 'simulation'], ['highlights', 'lagerstroemia', 'speciosa', 'leaf', 'extract', 'lsle', 'effective', 'environmental', 'friendly', 'corrosion', 'inhibitor', 'acidic', 'medium', 'inhibition', 'efficiency', 'lagerstroemia', 'speciosa', 'leaf', 'extract', 'reached', 'ppm', 'hcl', 'k', 'lagerstroemia', 'speciosa', 'leaf', 'extract', 'behaved', 'mixed', 'type', 'inhibitor', 'predominantly', 'anodic', 'nature', 'adsorption', 'lagerstroemia', 'speciosa', 'leaf', 'extract', 'surface', 'mild', 'steel', 'obeys', 'langmuir', 'adsorption', 'isotherm', 'abstractlagerstroemia', 'speciosa', 'leaf', 'extract', 'lsle', 'examined', 'corrosion', 'mitigating', 'agent', 'mild', 'steel', 'hcl', 'extract', 'characterized', 'gc', 'ms', 'ftir', 'weight', 'loss', 'wl', 'potentiodynamic', 'polarization', 'pdp', 'electrochemical', 'impedance', 'spectroscopy', 'eis', 'sem', 'edx', 'afm', 'uv', 'vis', 'spectroscopy', 'dft', 'studies', 'performed', 'examine', 'corrosion', 'mitigation', 'performance', 'lsle', 'revealed', 'wl', 'extract', 'efficient', 'concentration', 'ppm', 'k', 'adsorption', 'lsle', 'mild', 'steel', 'surface', 'spontaneous', 'follows', 'langmuir', 'isotherm', 'model', 'mixed', 'type', 'inhibition', 'anodic', 'predominance', 'revealed', 'pdp', 'results', 'eis', 'data', 'revealed', 'formation', 'inhibitive', 'film', 'metal', 'surface', 'active', 'groups', 'extract', 'sem', 'afm', 'show', 'better', 'morphological', 'image', 'reduced', 'surface', 'roughness', 'presence', 'lsle', 'uv', 'vis', 'results', 'indicate', 'fe', 'lsle', 'complex', 'formation', 'corrosion', 'reaction', 'dft', 'conducted', 'correlate', 'inhibition', 'efficiency', 'molecular', 'structure', 'active', 'species', 'present', 'extract', 'quantum', 'parameters', 'molecular', 'dynamic', 'simulation', 'helps', 'correlating', 'molecular', 'structure', 'adsorption', 'strength', 'inhibition', 'efficiency', 'anova', 'statistical', 'test', 'conducted', 'compare', 'inhibition', 'efficiencies', 'obtained', 'using', 'different', 'techniques', 'data', 'reveals', 'significantly', 'different'], ['highlights', 'corrosion', 'inhibition', 'efficacy', 'two', 'quinoline', 'derivatives', 'examined', 'inhibition', 'efficiencies', 'highly', 'satisfactory', 'concentrations', 'ppm', 'obtained', 'mixed', 'type', 'inhibitors', 'obeying', 'langmuir', 'adsorption', 'isotherm', 'dft', 'calculated', 'parameters', 'accord', 'well', 'experimental', 'properties', 'sem', 'measurements', 'applied', 'study', 'morphology', 'ms', 'surface', 'abstractconventional', 'weight', 'loss', 'electrochemical', 'measurements', 'quantum', 'chemical', 'calculations', 'scanning', 'electron', 'microscopy', 'techniques', 'employed', 'investigate', 'inhibitive', 'effects', 'two', 'novel', 'quinoline', 'derivatives', 'mercaptoquinoline', 'carbaldehyde', 'z', 'chlorophenylimino', 'methyl', 'quinoline', 'thiol', 'corrosion', 'mild', 'steel', 'hcl', 'solutions', 'decrease', 'weight', 'losses', 'mild', 'steel', 'samples', 'proved', 'additives', 'efficient', 'inhibitors', 'mixed', 'mode', 'inhibition', 'confirmed', 'electrochemical', 'polarizations', 'inhibitors', 'followed', 'langmuir', 'adsorption', 'isotherm', 'addition', 'quantum', 'chemical', 'calculations', 'performed', 'b', 'lyp', 'g', 'p', 'level', 'complement', 'experimental', 'results', 'graphical', 'abstractconventional', 'weight', 'loss', 'electrochemical', 'measurements', 'quantum', 'chemical', 'calculations', 'scanning', 'electron', 'microscopy', 'techniques', 'employed', 'investigate', 'inhibitive', 'effects', 'two', 'novel', 'quinoline', 'derivatives', 'mercaptoquinoline', 'carbaldehyde', 'z', 'chlorophenylimino', 'methyl', 'quinoline', 'thiol', 'corrosion', 'mild', 'steel', 'hcl', 'solutions', 'download', 'full', 'size', 'image'], ['highlights', 'understanding', 'corrosion', 'mechanisms', 'mid', 'metal', 'trace', 'sweat', 'environment', 'better', 'corrosion', 'resistance', 'en', 'coating', 'cu', 'sweat', 'improved', 'corrosion', 'resistance', 'mid', 'using', 'sam', 'hydrophobic', 'conformal', 'coatingabstract', 'circuitry', 'moulded', 'interconnect', 'device', 'mid', 'usually', 'made', 'multi', 'layered', 'metals', 'example', 'electroless', 'copper', 'cu', 'electroless', 'nickel', 'en', 'nip', 'immersion', 'gold', 'ig', 'au', 'e', 'called', 'cu', 'enig', 'anti', 'corrosion', 'mids', 'harsh', 'environments', 'contact', 'human', 'sweat', 'challenge', 'three', 'metals', 'large', 'differences', 'electrode', 'potential', 'part', 'circuitry', 'positively', 'polarized', 'operation', 'furthermore', 'coating', 'surface', 'modification', 'applied', 'onto', 'metal', 'traces', 'must', 'meet', 'requirements', 'good', 'compatibility', 'soldering', 'less', 'effect', 'surface', 'conductivity', 'study', 'failure', 'analysis', 'mid', 'devices', 'working', 'sweat', 'environment', 'carried', 'understand', 'corrosion', 'mechanisms', 'shown', 'en', 'coating', 'showed', 'better', 'corrosion', 'resistance', 'cu', 'substrate', 'attributed', 'passivation', 'effect', 'phosphorus', 'nip', 'alloy', 'material', 'reasons', 'causing', 'metal', 'trace', 'corrosion', 'include', 'existence', 'coating', 'defects', 'au', 'en', 'coatings', 'poor', 'corrosion', 'resistance', 'cu', 'sweat', 'large', 'difference', 'electrode', 'potential', 'among', 'three', 'metals', 'based', 'failure', 'analysis', 'results', 'synergetic', 'effect', 'surface', 'passivation', 'using', 'self', 'assembled', 'monolayer', 'sam', 'mercaptobenzothiazole', 'mbt', 'hydrophobic', 'conformal', 'coating', 'studied', 'sweat', 'tests', 'show', 'combination', 'sam', 'hydrophobic', 'conformal', 'coating', 'effectively', 'retard', 'corrosion', 'progress', 'cu', 'substrate', 'metal', 'traces', 'mids'], ['abstractthe', 'effect', 'various', 'heterocyclic', 'compounds', 'containing', 'nitrogen', 'oxygen', 'sulfur', 'selenium', 'atoms', 'corrosion', 'type', 'ss', 'sulfuric', 'acid', 'solution', 'studied', 'weight', 'loss', 'gasometry', 'dc', 'ac', 'techniques', 'found', 'inhibition', 'efficiency', 'tested', 'compounds', 'follows', 'order', 'methylbenzoselenazole', 'mbs', 'methyl', 'benzothiazole', 'mbt', 'methylbenzoxazole', 'mbo', 'methylbenzimidazole', 'mbi', 'adsorption', 'isotherms', 'follow', 'frumkin', 'isotherm', 'thermodynamic', 'kinetic', 'model', 'polarization', 'curves', 'showed', 'compounds', 'acted', 'decreasing', 'available', 'surface', 'area', 'change', 'reaction', 'mechanism', 'stability', 'formed', 'film', 'verified', 'ac', 'impedance', 'technique'], ['abstractthe', 'inhibition', 'efficiency', 'ethyl', 'methylimidazolium', 'dicyanamide', 'emid', 'studied', 'mild', 'steel', 'corrosion', 'acidic', 'environment', 'surface', 'analysis', 'showed', 'assembled', 'inhibitor', 'film', 'could', 'protect', 'metal', 'successfully', 'h', 'exposure', 'h', 'studies', 'considering', 'zero', 'charge', 'potential', 'value', 'epzc', 'showed', 'anion', 'plays', 'major', 'role', 'film', 'formation', 'surface', 'coverage', 'ratio', 'values', 'determined', 'handling', 'double', 'layer', 'capacitance', 'values', 'cdl', 'calculated', 'bode', 'diagrams', 'different', 'concentration', 'temperature', 'conditions', 'inhibitor', 'fixed', 'successfully', 'within', 'polypyrrole', 'film', 'applied', 'steel', 'surface', 'highly', 'protective', 'coating', 'highlights', 'inhibition', 'efficiency', 'ethyl', 'methylimidazolium', 'dicyanamide', 'highly', 'stable', 'inhibitor', 'film', 'assembled', 'steel', 'excellent', 'efficiency', 'h', 'exposure', 'acidic', 'media', 'compound', 'could', 'successfully', 'fixed', 'within', 'polypyrrole', 'coating', 'protection', 'efficiency', 'polymer', 'film', 'improved'], ['highlights', 'zinc', 'doped', 'polyaniline', 'grafted', 'graphene', 'oxide', 'go', 'nanosheets', 'anti', 'corrosion', 'properties', 'go', 'pani', 'zn', 'epoxy', 'composite', 'examined', 'go', 'pani', 'zn', 'remarkably', 'improved', 'epoxy', 'coating', 'barrier', 'active', 'inhibition', 'performance', 'abstractby', 'layer', 'layer', 'deposition', 'approach', 'grafted', 'graphene', 'oxide', 'go', 'particles', 'grafted', 'zinc', 'doped', 'polyaniline', 'pani', 'distributed', 'epoxy', 'matrix', 'provide', 'active', 'inhibition', 'barrier', 'properties', 'simultaneously', 'modified', 'unmodified', 'nanosheets', 'examined', 'x', 'ray', 'diffraction', 'xrd', 'analysis', 'raman', 'spectroscopy', 'corrosion', 'prevention', 'effect', 'go', 'pani', 'zn', 'epoxy', 'composite', 'studied', 'eis', 'salt', 'spray', 'test', 'results', 'revealed', 'go', 'nanosheets', 'dispersion', 'quality', 'interfacial', 'interactions', 'improved', 'applying', 'pani', 'zn', 'layer', 'leading', 'significant', 'improvement', 'epoxy', 'coating', 'barrier', 'properties', 'diffusion', 'sodium', 'chloride', 'solution', 'addition', 'according', 'eis', 'test', 'results', 'active', 'inhibition', 'properties', 'epoxy', 'film', 'promoted', 'addition', 'zinc', 'doped', 'polyaniline', 'compound', 'gixrd', 'results', 'confirmed', 'deposition', 'inhibitor', 'film', 'metal', 'surface', 'within', 'scratched', 'part', 'epoxy', 'composite', 'coating', 'filled', 'go', 'pani', 'zn', 'particles', 'addition', 'coating', 'surface', 'damage', 'salt', 'spray', 'test', 'significantly', 'decreased', 'addition', 'go', 'pani', 'zn', 'demonstrated', 'sem', 'contact', 'angle', 'tests', 'graphical', 'abstractdownload', 'high', 'res', 'image', 'kb', 'download', 'full', 'size', 'image'], ['abstractpolyaniline', 'pani', 'covered', 'surface', 'ultra', 'short', 'glass', 'fibers', 'uniformly', 'situ', 'polymerization', 'aniline', 'epoxy', 'coatings', 'different', 'contents', 'pani', 'ultra', 'short', 'glass', 'fibers', 'ultra', 'short', 'glass', 'fibers', 'formulated', 'protection', 'abilities', 'evaluated', 'means', 'open', 'circuit', 'potential', 'electrochemical', 'impedance', 'spectroscopy', 'salt', 'spray', 'test', 'results', 'showed', 'pani', 'ultra', 'short', 'glass', 'fibers', 'significant', 'inhibitive', 'effect', 'best', 'volume', 'fraction', 'epoxy', 'coating', 'xps', 'results', 'indicated', 'dense', 'stable', 'passive', 'oxide', 'film', 'fe', 'fe', 'formed', 'steel', 'surface', 'beneath', 'coating', 'highlights', 'ultra', 'short', 'glass', 'fibers', 'surface', 'covered', 'layer', 'polyaniline', 'pani', 'ultra', 'short', 'glass', 'fibers', 'corrosion', 'inhibition', 'effect', 'passive', 'oxide', 'film', 'formed', 'steel', 'surface', 'beneath', 'coating'], ['highlights', 'research', 'towards', 'lead', 'corrosion', 'inhibition', 'using', 'carboxylic', 'acids', 'examine', 'deposition', 'lead', 'dodecanoate', 'coating', 'lead', 'sample', 'test', 'corrosion', 'using', 'situ', 'sr', 'xrd', 'comparison', 'test', 'corrosion', 'bare', 'lead', 'sample', 'could', 'follow', 'deposition', 'breakdown', 'coating', 'function', 'potential', 'time', 'report', 'clear', 'inhibitive', 'action', 'coating', 'abstractthis', 'paper', 'concerns', 'time', 'lapse', 'spectroelectrochemical', 'study', 'growth', 'lead', 'dodecanoate', 'layers', 'lead', 'substrate', 'aqueous', 'solution', 'using', 'cyclic', 'voltammetry', 'situ', 'synchrotron', 'radiation', 'x', 'ray', 'diffraction', 'measurements', 'carried', 'station', 'bm', 'dubble', 'european', 'synchrotron', 'radiation', 'facility', 'esrf', 'france', 'diffraction', 'pattern', 'images', 'taken', 'using', 'two', 'dimensional', 'mar', 'ccd', 'camera', 'deposition', 'coating', 'spectroelectrochemical', 'study', 'linear', 'sweep', 'voltammetry', 'experiment', 'using', 'acetic', 'acid', 'electrolyte', 'simulating', 'active', 'lead', 'corrosion', 'carried', 'bare', 'lead', 'dodecanoate', 'coated', 'sample', 'results', 'show', 'coating', 'inhibits', 'formation', 'new', 'lead', 'corrosion', 'products', 'graphical', 'abstractdownload', 'full', 'size', 'image']]\n"
     ]
    }
   ],
   "source": [
    "# Reformat/cleans text\n",
    "with open(\"sd_abstracts.txt\") as file:\n",
    "    corpus = file.readlines()\n",
    "    processed_abstracts = [w.lower() for w in corpus]\n",
    "    processed_abstracts = [re.sub('[^a-zA-Z]', ' ', w) for w in processed_abstracts]\n",
    "    processed_abstracts = [re.sub(r'\\s+', ' ', w) for w in processed_abstracts]\n",
    "    \n",
    "def tokenize(sentences):\n",
    "    tokens = [nltk.word_tokenize(sent) for sent in processed_abstracts]\n",
    "    return tokens\n",
    "\n",
    "# Removal of unnecessary stopwords, like \"of\", \"and\", \"the\", etc.\n",
    "from nltk.corpus import stopwords\n",
    "for i in range(len(processed_abstracts)):\n",
    "    tokens[i] = [w for w in tokens[i] if w not in stopwords.words('english')]\n",
    "print(tokens)"
   ]
  },
  {
   "cell_type": "code",
   "execution_count": 14,
   "metadata": {
    "scrolled": true
   },
   "outputs": [],
   "source": [
    "# Passes all tokens to Word2Vec\n",
    "word2vec = Word2Vec(tokens, window=5, min_count=2, iter=5, negative=5) \n",
    "vocabulary = word2vec.wv.vocab"
   ]
  },
  {
   "cell_type": "code",
   "execution_count": 15,
   "metadata": {
    "scrolled": true
   },
   "outputs": [
    {
     "data": {
      "text/plain": [
       "[('corrosion', 0.9540901556611061),\n",
       " ('inhibition', 0.9540901556611061),\n",
       " ('show', 0.49105095863342285),\n",
       " ('investigated', 0.47183704376220703),\n",
       " ('acid', 0.46097661554813385),\n",
       " ('nccm', 0.4189692437648773),\n",
       " ('mrow', 0.39715880155563354),\n",
       " ('studied', 0.38048961758613586),\n",
       " ('efficiency', 0.3727501630783081),\n",
       " ('better', 0.3636122830212116),\n",
       " ('sam', 0.36352553963661194),\n",
       " ('performance', 0.3593912348151207),\n",
       " ('amine', 0.35909971594810486),\n",
       " ('surface', 0.3480038493871689),\n",
       " ('electron', 0.3480012118816376),\n",
       " ('temperature', 0.34464122354984283),\n",
       " ('investigate', 0.3423885554075241),\n",
       " ('decrease', 0.34132278710603714),\n",
       " ('improved', 0.340078204870224),\n",
       " ('true', 0.330965980887413)]"
      ]
     },
     "execution_count": 15,
     "metadata": {},
     "output_type": "execute_result"
    }
   ],
   "source": [
    "# Computes cosine similarity score between the search term and each token in the text\n",
    "search_term = ['corrosion','inhibition'] #eventually user input\n",
    "store = defaultdict(int)\n",
    "for word in search_term:\n",
    "    for vocab_word in vocabulary:\n",
    "        store[vocab_word] += word2vec.wv.similarity(word,vocab_word)\n",
    "\n",
    "# Orders dictionary from highest to lowest cosine similarity score\n",
    "cos_scores = sorted(store.items() , reverse=True, key=lambda x: x[1])\n",
    "\n",
    "# Extracts top 20 most similar tokens\n",
    "cos_scores[:20]"
   ]
  },
  {
   "cell_type": "code",
   "execution_count": null,
   "metadata": {},
   "outputs": [],
   "source": []
  },
  {
   "cell_type": "code",
   "execution_count": null,
   "metadata": {},
   "outputs": [],
   "source": []
  }
 ],
 "metadata": {
  "kernelspec": {
   "display_name": "Python 3",
   "language": "python",
   "name": "python3"
  },
  "language_info": {
   "codemirror_mode": {
    "name": "ipython",
    "version": 3
   },
   "file_extension": ".py",
   "mimetype": "text/x-python",
   "name": "python",
   "nbconvert_exporter": "python",
   "pygments_lexer": "ipython3",
   "version": "3.7.3"
  }
 },
 "nbformat": 4,
 "nbformat_minor": 2
}
